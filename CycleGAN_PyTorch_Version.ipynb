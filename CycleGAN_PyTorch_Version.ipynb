{
  "nbformat": 4,
  "nbformat_minor": 0,
  "metadata": {
    "colab": {
      "name": "CycleGAN for FER",
      "provenance": [],
      "collapsed_sections": [],
      "toc_visible": true
    },
    "kernelspec": {
      "name": "python3",
      "display_name": "Python 3"
    },
    "accelerator": "GPU"
  },
  "cells": [
    {
      "cell_type": "markdown",
      "metadata": {
        "id": "UWjY1ucc5gjI"
      },
      "source": [
        "# CycleGAN for FER \n",
        "By Fatemeh Ghezloo and Michelle Lin"
      ]
    },
    {
      "cell_type": "markdown",
      "metadata": {
        "id": "uNCJtekj9nGE"
      },
      "source": [
        "## Usage\n",
        "\n",
        "The purpose of this notebook is to train a CycleGAN on the FER2013 Facial Expression Recognition dataset. There is also functionality included to save test images generated during training, produce loss plots for the generators and each of the discriminators, and generate data for a CNN.\n",
        "\n",
        "To run this notebook, please make sure to first download the [FER2013 Kaggle dataset](https://www.kaggle.com/c/challenges-in-representation-learning-facial-expression-recognition-challenge). It would be easiest to put the `fer2013.csv` file into your Google Drive in the same location as where you want to save your model checkpoints and images. For reference, the folder structure we used was the following:\n",
        "\n",
        "```\n",
        "MyDrive/\n",
        "└── colab_files/\n",
        "|   └── final_project/\n",
        "|   |   ├── fer2013.csv                       # FER2013 dataset\n",
        "|   |   └── logs/\n",
        "|   |   |   ├── 0.1/\n",
        "|   |   |   ├── 0.2/\n",
        "|   |   |   └── 0.3/                          # files for experiment 0.3\n",
        "|   |   |   |   ├── <E>_generated.npy         # generated images from emotion <E> to add to CNN\n",
        "|   |   |   |   ├── log.pkl                   # log file\n",
        "|   |   |   |   ├── test_images_<N>/          # test images from epoch <N>\n",
        "|   |   |   |   ├── images/                   # images generated during training\n",
        "|   |   |   |   ├── D_A/                      # reference discriminator checkpoints\n",
        "|   |   |   |   ├── D_B/                      # target discriminator checkpoints\n",
        "|   |   |   |   ├── G_A2B/                    # reference -> target generator checkpoints\n",
        "|   |   |   |   └── G_B2A/                    # target -> reference  generator checkpoints\n",
        "```\n",
        "\n",
        "This colab file should work regardless of folder structure, as long as you make sure the following file path variables point to the correct place:\n",
        "\n",
        "* `BASE_PATH`: the base folder for your files in your Google Drive\n",
        "* `LOG_PATH`: folder to save all training logs and images\n",
        "* `TEST_PATH`: folder to save your test images from a specific epoch\n",
        "* `OUTPUT_PATH`: folder to save your generated images for the CNN\n",
        "* `GEN_A2B_PATH`: folder to save reference -> target model checkpoints\n",
        "* `GEN_B2A_PATH`: folder to save target -> reference model checkpoints\n",
        "* `DISC_A_PATH`: folder to save reference discriminator model checkpoints\n",
        "* `DISC_B_PATH`: folder to save reference target model checkpoints\n",
        "\n",
        "To train the model, you can simply select the [\"Training the model\" header](https://colab.research.google.com/drive/1woR0k_9zgc419iA_mFWuWLXsBl7DOSXy#scrollTo=UM37UOtypP-d) and run all cells above it (you can use Runtime > Run before). This will set up everything for training. Then, follow the instructions in the \"Training the model\" section to set your training parameters/constants and then you can train the CycleGAN.\n",
        "\n",
        "Since loss is a usually a poor indicator of model correctness, the we can only test the model by simply displaying generated images from the test set (\"PublicTest\"). Since the test set can be quite large, we have also added saving functionality to our test function so that you can view the generated images along with the input in your Drive. Follow the instructions under the  [\"Testing the model\" section](https://colab.research.google.com/drive/1woR0k_9zgc419iA_mFWuWLXsBl7DOSXy#scrollTo=6MqnhJePpkpg&line=1&uniqifier=1) to generate and display test images.\n",
        "\n",
        "If you would like to use your model to generate images for our CNN model, follow the instructions under the [\"Generating images\" section](https://colab.research.google.com/drive/1woR0k_9zgc419iA_mFWuWLXsBl7DOSXy#scrollTo=bKbijKJNAiF5).\n",
        "\n",
        "Thanks for checking out our CycleGAN implementation! \n",
        "\n",
        "The majority of our code was implemented by us, but we referenced several Github repositories in the process:\n",
        "* https://github.com/aitorzip/PyTorch-CycleGAN/\n",
        "* https://github.com/junyanz/CycleGAN/\n",
        "* https://github.com/FrancescoSaverioZuppichini/ResNet\n",
        "* https://github.com/ivadym/FER/\n",
        "* https://github.com/yunjey/mnist-svhn-transfer/\n"
      ]
    },
    {
      "cell_type": "markdown",
      "metadata": {
        "id": "6s0e3nBy18Iz"
      },
      "source": [
        "## Initial setup\n",
        "\n",
        "Run the following sections to make sure that you are using the GPU, have imported all the necessary packages, can read from/write to your Google Drive, and have copied all data to the GPU. "
      ]
    },
    {
      "cell_type": "code",
      "metadata": {
        "colab": {
          "base_uri": "https://localhost:8080/"
        },
        "id": "bR3dxx635dAR",
        "outputId": "46157320-0573-4ccc-bd50-ed84106d58ec"
      },
      "source": [
        "import torch\n",
        "print('Version', torch.__version__)\n",
        "print('CUDA enabled:', torch.cuda.is_available())\n",
        "  \n",
        "# Running this should then print out:\n",
        "# Version 1.7.0+cu101 (or something like this)\n",
        "# CUDA enabled: True"
      ],
      "execution_count": null,
      "outputs": [
        {
          "output_type": "stream",
          "text": [
            "Version 1.7.0+cu101\n",
            "CUDA enabled: True\n"
          ],
          "name": "stdout"
        }
      ]
    },
    {
      "cell_type": "code",
      "metadata": {
        "colab": {
          "base_uri": "https://localhost:8080/"
        },
        "id": "nw1F4BxIqgFV",
        "outputId": "78967b0e-04da-4c3c-ff07-5e7139ba80dc"
      },
      "source": [
        "# Connect to your Google Drive\n",
        "from google.colab import drive\n",
        "drive.mount('/gdrive')\n",
        "!ls /gdrive"
      ],
      "execution_count": null,
      "outputs": [
        {
          "output_type": "stream",
          "text": [
            "Mounted at /gdrive\n",
            "MyDrive  Shareddrives\n"
          ],
          "name": "stdout"
        }
      ]
    },
    {
      "cell_type": "code",
      "metadata": {
        "id": "pqXNHD2dqj4Y",
        "colab": {
          "base_uri": "https://localhost:8080/"
        },
        "outputId": "aac36fe9-e47c-481d-8249-8bc05c1319e1"
      },
      "source": [
        "### Storage creation ###\n",
        "import os\n",
        "BASE_PATH = '/gdrive/My Drive/colab_files/final_project/'\n",
        "if not os.path.exists(BASE_PATH):\n",
        "    # Create a folder to store your generated images and checkpoints on your Drive\n",
        "    os.makedirs(BASE_PATH)\n",
        "DATA_PATH = '/content/'\n",
        "\n",
        "# Download the data to the GPU so we can train the model\n",
        "if not os.path.exists(os.path.join(DATA_PATH, 'fer2013.csv')):\n",
        "    os.chdir(BASE_PATH) # Should be where fer2013.csv is stored in your Drive\n",
        "    !cp fer2013.csv /content\n",
        "    !ls\n",
        "os.chdir('/content')"
      ],
      "execution_count": null,
      "outputs": [
        {
          "output_type": "stream",
          "text": [
            "fer2013.csv  logs  pt_util.py\n"
          ],
          "name": "stdout"
        }
      ]
    },
    {
      "cell_type": "code",
      "metadata": {
        "id": "ebWAgJYJ0y8V"
      },
      "source": [
        "### Imports ###\n",
        "\n",
        "# Import necessary packages and functions\n",
        "import torch\n",
        "import torch.nn as nn\n",
        "from torchvision import datasets\n",
        "import numpy as np\n",
        "import pandas as pd\n",
        "import torch.nn.functional as F\n",
        "import torch.optim as optim\n",
        "import sys\n",
        "import pickle\n",
        "import re\n",
        "from torch.utils.data import DataLoader\n",
        "from PIL import Image\n",
        "import os\n",
        "import multiprocessing\n",
        "from torch.autograd import Variable\n",
        "import csv\n",
        "import h5py\n",
        "from torchvision.utils import save_image\n",
        "import itertools\n",
        "from matplotlib import pyplot as plt\n",
        "from __future__ import print_function\n",
        "import random\n",
        "import torch.utils.data as data\n",
        "from torchvision import transforms\n",
        "import glob"
      ],
      "execution_count": null,
      "outputs": []
    },
    {
      "cell_type": "markdown",
      "metadata": {
        "id": "Xers29Ahre6f"
      },
      "source": [
        "# Data preprocessing\n",
        "\n",
        "In this section, we process the FER2013 CSV so that we can use the data later to train the CycleGAN. A dataset is created for each split (train, public test, and private test) and emotion (angry, disgust, fear, happy, sad, surprise, and neutral)."
      ]
    },
    {
      "cell_type": "code",
      "metadata": {
        "id": "L4Vrbqi1DjSz",
        "colab": {
          "base_uri": "https://localhost:8080/"
        },
        "outputId": "356304cf-6c2d-4f1b-ed46-97750657e79b"
      },
      "source": [
        "### Data preparation and preprocessing ### \n",
        "\n",
        "# Variable definitions\n",
        "emotionsToInd = {\"Angry\":0, \"Disgust\":1, \"Fear\":2, \"Happy\":3, \"Sad\":4, \"Surprise\":5, \"Neutral\":6}\n",
        "indToEmotions = {emotionsToInd[key]:key for key in emotionsToInd}\n",
        "setSizes = {\"Training\":[], \"PublicTest\":[], \"PrivateTest\":[]}\n",
        "\n",
        "def prepare_data(data_path):\n",
        "  # Creat the list to store the data and label information\n",
        "  Training_x = {key:[] for key in indToEmotions}\n",
        "  Training_y = {}\n",
        "  PublicTest_x = {key:[] for key in indToEmotions}\n",
        "  PublicTest_y = {}\n",
        "  PrivateTest_x = {key:[] for key in indToEmotions}\n",
        "  PrivateTest_y = {}\n",
        "\n",
        "  datapath = os.path.join(DATA_PATH,'data.h5')\n",
        "  if not os.path.exists(os.path.dirname(datapath)):\n",
        "    os.makedirs(os.path.dirname(datapath))\n",
        "\n",
        "  with open(data_path,'r') as csvin:\n",
        "    data = csv.reader(csvin)\n",
        "    for row in data:\n",
        "      if row[-1] == 'Training':\n",
        "        temp_list = []\n",
        "        for pixel in row[1].split( ):\n",
        "          temp_list.append(int(pixel))\n",
        "        I = np.asarray(temp_list)\n",
        "        Training_x[int(row[0])].append(I.tolist())\n",
        "\n",
        "      if row[-1] == \"PublicTest\" :\n",
        "        temp_list = []\n",
        "        for pixel in row[1].split( ):\n",
        "          temp_list.append(int(pixel))\n",
        "        I = np.asarray(temp_list)\n",
        "        PublicTest_x[int(row[0])].append(I.tolist())\n",
        "\n",
        "      if row[-1] == 'PrivateTest':\n",
        "        temp_list = []\n",
        "        for pixel in row[1].split( ):\n",
        "          temp_list.append(int(pixel))\n",
        "        I = np.asarray(temp_list)\n",
        "        PrivateTest_x[int(row[0])].append(I.tolist())\n",
        "\n",
        "  for key in emotionsToInd:\n",
        "    setSizes[\"Training\"].append(np.shape(Training_x[emotionsToInd[key]])[0])\n",
        "    print(key, \"training data:\", np.shape(Training_x[emotionsToInd[key]]))\n",
        "    setSizes[\"PublicTest\"].append(np.shape(PublicTest_x[emotionsToInd[key]])[0])\n",
        "    print(key, \"public test data:\", np.shape(PublicTest_x[emotionsToInd[key]]))\n",
        "    setSizes[\"PrivateTest\"].append(np.shape(PrivateTest_x[emotionsToInd[key]])[0])\n",
        "    print(key, \"private test data:\", np.shape(PrivateTest_x[emotionsToInd[key]]), \"\\n\")\n",
        "\n",
        "  print(setSizes)\n",
        "\n",
        "  datafile = h5py.File(datapath, 'w')\n",
        "  print(\"Start to construct data file...\")\n",
        "  for key in emotionsToInd:\n",
        "    datafile.create_dataset(\"Training_pixel_\" + key, dtype = 'uint8', data=Training_x[emotionsToInd[key]])\n",
        "    datafile.create_dataset(\"PublicTest_pixel_\" + key, dtype = 'uint8', data=PublicTest_x[emotionsToInd[key]])\n",
        "    datafile.create_dataset(\"PrivateTest_pixel_\" + key, dtype = 'uint8', data=PrivateTest_x[emotionsToInd[key]])\n",
        "    print(\"Finish data file creation for\", key)\n",
        "  datafile.close()\n",
        "\n",
        "  print(\"Save data finished.\")\n",
        "\n",
        "prepare_data(DATA_PATH + 'fer2013.csv')"
      ],
      "execution_count": null,
      "outputs": [
        {
          "output_type": "stream",
          "text": [
            "Angry training data: (3995, 2304)\n",
            "Angry public test data: (467, 2304)\n",
            "Angry private test data: (491, 2304) \n",
            "\n",
            "Disgust training data: (436, 2304)\n",
            "Disgust public test data: (56, 2304)\n",
            "Disgust private test data: (55, 2304) \n",
            "\n",
            "Fear training data: (4097, 2304)\n",
            "Fear public test data: (496, 2304)\n",
            "Fear private test data: (528, 2304) \n",
            "\n",
            "Happy training data: (7215, 2304)\n",
            "Happy public test data: (895, 2304)\n",
            "Happy private test data: (879, 2304) \n",
            "\n",
            "Sad training data: (4830, 2304)\n",
            "Sad public test data: (653, 2304)\n",
            "Sad private test data: (594, 2304) \n",
            "\n",
            "Surprise training data: (3171, 2304)\n",
            "Surprise public test data: (415, 2304)\n",
            "Surprise private test data: (416, 2304) \n",
            "\n",
            "Neutral training data: (4965, 2304)\n",
            "Neutral public test data: (607, 2304)\n",
            "Neutral private test data: (626, 2304) \n",
            "\n",
            "{'Training': [3995, 436, 4097, 7215, 4830, 3171, 4965], 'PublicTest': [467, 56, 496, 895, 653, 415, 607], 'PrivateTest': [491, 55, 528, 879, 594, 416, 626]}\n",
            "Start to construct data file...\n",
            "Finish data file creation for Angry\n",
            "Finish data file creation for Disgust\n",
            "Finish data file creation for Fear\n",
            "Finish data file creation for Happy\n",
            "Finish data file creation for Sad\n",
            "Finish data file creation for Surprise\n",
            "Finish data file creation for Neutral\n",
            "Save data finished.\n"
          ],
          "name": "stdout"
        }
      ]
    },
    {
      "cell_type": "markdown",
      "metadata": {
        "id": "R5wR9ZJf46iG"
      },
      "source": [
        "# Helper functions\n",
        "\n",
        "Below are some useful helper functions. In the first section are functions to help with model checkpointing and plotting. The second section contains functions to work with images. "
      ]
    },
    {
      "cell_type": "markdown",
      "metadata": {
        "id": "PCbMcFfyfVlb"
      },
      "source": [
        "## pt_util\n",
        "\n",
        "The functions below help with saving/loading the model, plotting loss/accuracy plots, and reading to/writing from the log file. "
      ]
    },
    {
      "cell_type": "code",
      "metadata": {
        "id": "UPKEGI1rM5ER"
      },
      "source": [
        "# These helper functions are copied from pt_util file by https://github.com/pjreddie/\n",
        "\n",
        "try:\n",
        "    # For 2.7\n",
        "    import cPickle as pickle\n",
        "except:\n",
        "    # For 3.x\n",
        "    import pickle\n",
        "\n",
        "def restore(net, save_file):\n",
        "    \"\"\"Restores the weights from a saved file\n",
        "\n",
        "    This does more than the simple Pytorch restore. It checks that the names\n",
        "    of variables match, and if they don't doesn't throw a fit. It is similar\n",
        "    to how Caffe acts. This is especially useful if you decide to change your\n",
        "    network architecture but don't want to retrain from scratch.\n",
        "\n",
        "    Args:\n",
        "        net(torch.nn.Module): The net to restore\n",
        "        save_file(str): The file path\n",
        "    \"\"\"\n",
        "\n",
        "    net_state_dict = net.state_dict()\n",
        "    restore_state_dict = torch.load(save_file)\n",
        "\n",
        "    restored_var_names = set()\n",
        "\n",
        "    print('Restoring:')\n",
        "    for var_name in restore_state_dict.keys():\n",
        "        if var_name in net_state_dict:\n",
        "            var_size = net_state_dict[var_name].size()\n",
        "            restore_size = restore_state_dict[var_name].size()\n",
        "            if var_size != restore_size:\n",
        "                print('Shape mismatch for var', var_name, 'expected', var_size, 'got', restore_size)\n",
        "            else:\n",
        "                if isinstance(net_state_dict[var_name], torch.nn.Parameter):\n",
        "                    # backwards compatibility for serialized parameters\n",
        "                    net_state_dict[var_name] = restore_state_dict[var_name].data\n",
        "                try:\n",
        "                    net_state_dict[var_name].copy_(restore_state_dict[var_name])\n",
        "                    print(str(var_name) + ' -> \\t' + str(var_size) + ' = ' + str(int(np.prod(var_size) * 4 / 10**6)) + 'MB')\n",
        "                    restored_var_names.add(var_name)\n",
        "                except Exception as ex:\n",
        "                    print('While copying the parameter named {}, whose dimensions in the model are'\n",
        "                          ' {} and whose dimensions in the checkpoint are {}, ...'.format(\n",
        "                              var_name, var_size, restore_size))\n",
        "                    raise ex\n",
        "\n",
        "    ignored_var_names = sorted(list(set(restore_state_dict.keys()) - restored_var_names))\n",
        "    unset_var_names = sorted(list(set(net_state_dict.keys()) - restored_var_names))\n",
        "    print('')\n",
        "    if len(ignored_var_names) == 0:\n",
        "        print('Restored all variables')\n",
        "    else:\n",
        "        print('Did not restore:\\n\\t' + '\\n\\t'.join(ignored_var_names))\n",
        "    if len(unset_var_names) == 0:\n",
        "        print('No new variables')\n",
        "    else:\n",
        "        print('Initialized but did not modify:\\n\\t' + '\\n\\t'.join(unset_var_names))\n",
        "\n",
        "    print('Restored %s' % save_file)\n",
        "\n",
        "\n",
        "def restore_latest(net, folder):\n",
        "    \"\"\"Restores the most recent weights in a folder\n",
        "\n",
        "    Args:\n",
        "        net(torch.nn.module): The net to restore\n",
        "        folder(str): The folder path\n",
        "    Returns:\n",
        "        int: Attempts to parse the epoch from the state and returns it if possible. Otherwise returns 0.\n",
        "    \"\"\"\n",
        "\n",
        "    checkpoints = sorted(glob.glob(folder + '/*.pt'), key=os.path.getmtime)\n",
        "    start_it = 0\n",
        "    if len(checkpoints) > 0:\n",
        "        restore(net, checkpoints[-1])\n",
        "        try:\n",
        "            start_it = int(re.findall(r'\\d+', checkpoints[-1])[-1])\n",
        "        except:\n",
        "            pass\n",
        "    return start_it\n",
        "\n",
        "\n",
        "def save(net, file_name, num_to_keep=1):\n",
        "    \"\"\"Saves the net to file, creating folder paths if necessary.\n",
        "\n",
        "    Args:\n",
        "        net(torch.nn.module): The network to save\n",
        "        file_name(str): the path to save the file.\n",
        "        num_to_keep(int): Specifies how many previous saved states to keep once this one has been saved.\n",
        "            Defaults to 1. Specifying < 0 will not remove any previous saves.\n",
        "    \"\"\"\n",
        "\n",
        "    folder = os.path.dirname(file_name)\n",
        "    if not os.path.exists(folder):\n",
        "        os.makedirs(folder)\n",
        "    torch.save(net.state_dict(), file_name)\n",
        "    extension = os.path.splitext(file_name)[1]\n",
        "    checkpoints = sorted(glob.glob(folder + '/*' + extension), key=os.path.getmtime)\n",
        "    print('Saved %s\\n' % file_name)\n",
        "    if num_to_keep > 0:\n",
        "        for ff in checkpoints[:-num_to_keep]:\n",
        "            os.remove(ff)\n",
        "\n",
        "def write_log(filename, data):\n",
        "    \"\"\"Pickles and writes data to a file\n",
        "\n",
        "    Args:\n",
        "        filename(str): File name\n",
        "        data(pickleable object): Data to save\n",
        "    \"\"\"\n",
        "\n",
        "    if not os.path.exists(os.path.dirname(filename)):\n",
        "        os.makedirs(os.path.dirname(filename))\n",
        "    pickle.dump(data, open(filename, 'wb'))\n",
        "\n",
        "def read_log(filename, default_value=None):\n",
        "    \"\"\"Reads pickled data or returns the default value if none found\n",
        "\n",
        "    Args:\n",
        "        filename(str): File name\n",
        "        default_value(anything): Value to return if no file is found\n",
        "    Returns:\n",
        "        unpickled file\n",
        "    \"\"\"\n",
        "\n",
        "    if os.path.exists(filename):\n",
        "        return pickle.load(open(filename, 'rb'))\n",
        "    return default_value\n",
        "\n",
        "def show_images(images, titles=None, columns=5, max_rows=5):\n",
        "    \"\"\"Shows images in a tiled format\n",
        "\n",
        "    Args:\n",
        "        images(list[np.array]): Images to show\n",
        "        titles(list[string]): Titles for each of the images\n",
        "        columns(int): How many columns to use in the tiling\n",
        "        max_rows(int): If there are more than columns * max_rows images, only the first n of them will be shown.\n",
        "    \"\"\"\n",
        "\n",
        "    images = images[:min(len(images), max_rows * columns)]\n",
        "\n",
        "    plt.figure(figsize=(20, 10))\n",
        "    for ii, image in enumerate(images):\n",
        "        plt.subplot(len(images) / columns + 1, columns, ii + 1)\n",
        "        plt.axis('off')\n",
        "        if titles is not None and ii < len(titles):\n",
        "            plt.title(str(titles[ii]))\n",
        "        plt.imshow(image)\n",
        "    plt.show()\n",
        "\n",
        "def plot(x_values, y_values, title, xlabel, ylabel):\n",
        "    \"\"\"Plots a line graph\n",
        "\n",
        "    Args:\n",
        "        x_values(list or np.array): x values for the line\n",
        "        y_values(list or np.array): y values for the line\n",
        "        title(str): Title for the plot\n",
        "        xlabel(str): Label for the x axis\n",
        "        ylabel(str): label for the y axis\n",
        "    \"\"\"\n",
        "\n",
        "    plt.figure(figsize=(20, 10))\n",
        "    plt.plot(x_values, y_values)\n",
        "    plt.title(title)\n",
        "    plt.xlabel(xlabel)\n",
        "    plt.ylabel(ylabel)\n",
        "    plt.show()\n",
        "\n",
        "def to_scaled_uint8(array):\n",
        "    \"\"\"Returns a normalized uint8 scaled to 0-255. This is useful for showing images especially of floats.\n",
        "\n",
        "    Args:\n",
        "        array(np.array): The array to normalize\n",
        "    Returns:\n",
        "        np.array normalized and of type uint8\n",
        "    \"\"\"\n",
        "\n",
        "    array = np.array(array, dtype=np.float32)\n",
        "    array -= np.min(array)\n",
        "    array *= (255. / np.max(array))\n",
        "    array = array.astype(np.uint8)\n",
        "    return array"
      ],
      "execution_count": null,
      "outputs": []
    },
    {
      "cell_type": "markdown",
      "metadata": {
        "id": "B03N7QnjfoL8"
      },
      "source": [
        "## Working with images\n",
        "\n",
        "The `_pixels_to_image` function will convert pixel values to an image, which is needed to display the image on the console. The `_save_and_display_image` function will display a given image and also save it to your desired location (usually in your Google Drive) so that it can be accessed even after the output for this notebook is overwritten."
      ]
    },
    {
      "cell_type": "code",
      "metadata": {
        "id": "cLtp9JD3h0au"
      },
      "source": [
        "def _pixels_to_image(pixels, transform=None):\n",
        "  \"\"\"\n",
        "  Converts a matrix of pixels into a PIL image\n",
        "  Args:\n",
        "    pixels (matrix of ints): Pixel values\n",
        "  Returns:\n",
        "    A PIL Image representing the given pixels\n",
        "  \"\"\"    \n",
        "  img = pixels[:, :, np.newaxis]\n",
        "  img = np.concatenate((img, img, img), axis=2)\n",
        "  img = Image.fromarray(img.astype(np.uint8))\n",
        "  if transform is not None:\n",
        "    img = transform(img)\n",
        "  return img\n",
        "\n",
        "def _save_and_display_image(pixels, display_name, file_path, file_name):\n",
        "  \"\"\"\n",
        "  Displays and saves the given image\n",
        "  Args:\n",
        "    pixels (matrix of ints): Pixel values\n",
        "    display_name (string): name to display on console along with image\n",
        "    file_path (string): where the image should be stored\n",
        "    file_name (string): what the image file should be called\n",
        "  \"\"\"\n",
        "  print(\"%s:\" % display_name)\n",
        "  display(_pixels_to_image(pixels))\n",
        "  save_image(pixels, file_path + file_name, normalize=True)"
      ],
      "execution_count": null,
      "outputs": []
    },
    {
      "cell_type": "markdown",
      "metadata": {
        "id": "Enj_lQsuo2m_"
      },
      "source": [
        "# Loading the data\n",
        "\n",
        "FER data retreived from https://www.kaggle.com/c/challenges-in-representation-learning-facial-expression-recognition-challenge/data"
      ]
    },
    {
      "cell_type": "code",
      "metadata": {
        "id": "bmsNUnejIAEO"
      },
      "source": [
        "### Dataset declaration and definition ### \n",
        "class FER2013(data.Dataset):\n",
        "  ''' Fer2013 Dataset class'''\n",
        "  def __init__(self, classA=\"Neutral\", classB=\"Disgust\", split='Training', transforms_=None, unaligned=True):\n",
        "    self.transform = transforms.Compose(transforms_) if transforms_ is not None else None\n",
        "    self.split = split  # training set or test set\n",
        "    self.data = h5py.File(DATA_PATH + 'data.h5', 'r', driver='core')\n",
        "    self.classA = classA\n",
        "    self.classB = classB\n",
        "    self.unaligned = unaligned\n",
        "\n",
        "    self.train_data_full = {self.classA:[], self.classB:[]}\n",
        "    self.PublicTest_data_full = {self.classA:[], self.classB:[]}\n",
        "    self.PrivateTest_data_full = {self.classA:[], self.classB:[]}\n",
        "\n",
        "    if self.split == 'Training':\n",
        "      self.train_data_A = self._reshape_data(self.classA, 'Training_pixel_' + self.classA)\n",
        "      self.train_data_B = self._reshape_data(self.classB, 'Training_pixel_' + self.classB)\n",
        "\n",
        "    elif self.split == 'PublicTest':\n",
        "      self.PublicTest_data_A = self._reshape_data(self.classA, 'PublicTest_pixel_' + self.classA)\n",
        "      self.PublicTest_data_B = self._reshape_data(self.classB, 'PublicTest_pixel_' + self.classB)\n",
        "\n",
        "    else:\n",
        "      self.PrivateTest_data_A = self._reshape_data(self.classA, 'PrivateTest_pixel_' + self.classA)\n",
        "      self.PrivateTest_data_B = self._reshape_data(self.classB, 'PrivateTest_pixel_' + self.classB)\n",
        "\n",
        "  def _reshape_data(self, key, dataset_name):\n",
        "    data = self.data[dataset_name]\n",
        "    data = np.asarray(data)\n",
        "    return data.reshape((setSizes[self.split][emotionsToInd[key]], 48, 48))\n",
        "\n",
        "  def __getitem__(self, index):\n",
        "    \"\"\"\n",
        "    Args:\n",
        "      index (int): Index\n",
        "    Returns:\n",
        "      tuple: (image, target) where target is index of the target class.\n",
        "    \"\"\"    \n",
        "    if self.split == 'Training':\n",
        "      item_A, item_B = self._get_image_item(index, self.train_data_A, self.train_data_B)\n",
        "    elif self.split == 'PublicTest':\n",
        "      item_A, item_B = self._get_image_item(index, self.PublicTest_data_A, self.PublicTest_data_B)\n",
        "    else:\n",
        "      item_A, item_B = self._get_image_item(index, self.PrivateTest_data_A, self.PrivateTest_data_B)\n",
        "    return {'A': item_A, 'B': item_B}\n",
        "\n",
        "  def _get_image_item(self, index, data_A, data_B):\n",
        "    \"\"\"\n",
        "    Gets an item from each dataset but in image form\n",
        "    Args:\n",
        "      index (int): Index\n",
        "      data_A (list): list of pixels from class A\n",
        "      data_B (list): list of pixels from class B\n",
        "    Returns:\n",
        "      Dictionary containing a pair of images from class A and class B.\n",
        "    \"\"\"    \n",
        "    item_A = data_A[index % len(data_A)]\n",
        "    if self.unaligned:\n",
        "      item_B = data_B[random.randint(0, len(data_B) - 1)]\n",
        "    else:\n",
        "      item_B = data_B[index % len(data_B)]\n",
        "    if self.transform is not None:\n",
        "      item_A = self.transform(torch.Tensor(item_A))\n",
        "      item_B = self.transform(torch.Tensor(item_B))\n",
        "    return item_A, item_B\n",
        "\n",
        "  def __len__(self):\n",
        "    if self.split == 'Training':\n",
        "      return max(len(self.train_data_A), len(self.train_data_B))\n",
        "    elif self.split == 'PublicTest':\n",
        "      return max(len(self.PublicTest_data_A), len(self.PublicTest_data_B))\n",
        "    else:\n",
        "      return max(len(self.PrivateTest_data_A), len(self.PrivateTest_data_B))"
      ],
      "execution_count": null,
      "outputs": []
    },
    {
      "cell_type": "markdown",
      "metadata": {
        "id": "A9rZVplEpEIf"
      },
      "source": [
        "# Defining the network\n",
        "\n",
        "In this section we define the classes for our network and functions to train/test our model. The model architecture was largely modeled off of the [Emotion Classification with Data AugmentationUsing Generative Adversarial Networks paper by Zhu et. al.](https://arxiv.org/pdf/1711.00648.pdf), but we made some modifications. We removed the normalization at output layers for both the generator and discriminator, replaced most other batch normalization layers with instance norm because the reported batch size was 1, and added padding as needed so that output dimensions were what we expected.\n",
        "\n",
        "Feel free to play around with the architecture! Some ideas might be trying different types of normalization layers, activations, kernel sizes, or strides."
      ]
    },
    {
      "cell_type": "markdown",
      "metadata": {
        "id": "LVH_UQ70ha8u"
      },
      "source": [
        "## Resnet class\n",
        "\n",
        "Class for a single Resnet block as defined in the Resnet paper"
      ]
    },
    {
      "cell_type": "code",
      "metadata": {
        "id": "OETwfeoxhF1l"
      },
      "source": [
        "class ResidualBlock(nn.Module):\n",
        "    def __init__(self, in_features):\n",
        "        super(ResidualBlock, self).__init__()\n",
        "\n",
        "        conv_block = [  nn.Conv2d(in_features, in_features, 3, padding=1),\n",
        "                        nn.BatchNorm2d(in_features),\n",
        "                        nn.ReLU(inplace=True),\n",
        "                        nn.Conv2d(in_features, in_features, 3, padding=1),\n",
        "                        nn.BatchNorm2d(in_features)  ]\n",
        "\n",
        "        self.conv_block = nn.Sequential(*conv_block)\n",
        "\n",
        "    def forward(self, x):\n",
        "        return x + self.conv_block(x)"
      ],
      "execution_count": null,
      "outputs": []
    },
    {
      "cell_type": "markdown",
      "metadata": {
        "id": "BUUt9D2chXCN"
      },
      "source": [
        "## Generator class"
      ]
    },
    {
      "cell_type": "code",
      "metadata": {
        "id": "pJm41CGihWib"
      },
      "source": [
        "class Generator(nn.Module):\n",
        "    \"\"\"\n",
        "    Generator class\n",
        "\n",
        "    Args:\n",
        "      input_nc (int): number of input channels\n",
        "      output_nc (int): number of output channels\n",
        "      n_residual_blocks (int): number of residual blocks\n",
        "    \"\"\"\n",
        "    def __init__(self, input_nc=3, output_nc=3, n_residual_blocks=6):\n",
        "        super(Generator, self).__init__()\n",
        "\n",
        "        # Initial convolution block       \n",
        "        model = [   nn.Conv2d(input_nc, 64, 7, padding=3, stride=1),\n",
        "                    nn.InstanceNorm2d(64),\n",
        "                    nn.ReLU(inplace=True) ]\n",
        "\n",
        "        # Downsampling\n",
        "        in_features = 64\n",
        "        out_features = in_features * 2\n",
        "        for _ in range(2):\n",
        "            model += [  nn.Conv2d(in_features, out_features, 3, padding=1, stride=2), \n",
        "                        nn.InstanceNorm2d(out_features),\n",
        "                        nn.ReLU(inplace=True) ]\n",
        "            in_features = out_features\n",
        "            out_features = in_features * 2\n",
        "\n",
        "        # Residual blocks\n",
        "        for _ in range(n_residual_blocks):\n",
        "            model += [ResidualBlock(in_features)]\n",
        "\n",
        "        # Upsampling\n",
        "        out_features = in_features // 2\n",
        "        for _ in range(2):\n",
        "            model += [  nn.ConvTranspose2d(in_features, out_features, 3, padding=1, output_padding=1, stride=2), # not sure if stride is 0.5 or if we need padding\n",
        "                        nn.InstanceNorm2d(out_features),\n",
        "                        nn.ReLU(inplace=True) ]\n",
        "            in_features = out_features\n",
        "            out_features = in_features // 2\n",
        "\n",
        "        # Output layer\n",
        "        model += [ nn.Conv2d(64, output_nc, 7, padding=3) ]\n",
        "\n",
        "        self.model = nn.Sequential(*model)\n",
        "\n",
        "    def forward(self, x):\n",
        "        return self.model(x)\n",
        "    \n",
        "    def save_model(self, file_path, num_to_keep=1):\n",
        "        save(self, file_path, num_to_keep)\n",
        "\n",
        "    def load_last_model(self, dir_path):\n",
        "        return restore_latest(self, dir_path)\n"
      ],
      "execution_count": null,
      "outputs": []
    },
    {
      "cell_type": "markdown",
      "metadata": {
        "id": "JpdrdwdjhYou"
      },
      "source": [
        "## Discriminator class"
      ]
    },
    {
      "cell_type": "code",
      "metadata": {
        "id": "wN8ml9EnMDkw"
      },
      "source": [
        "class Discriminator(nn.Module):\n",
        "    def __init__(self, input_nc=3):\n",
        "        super(Discriminator, self).__init__()\n",
        "\n",
        "        # A bunch of convolutions one after another\n",
        "        model = [   nn.Conv2d(input_nc, 64, 4, stride=2), \n",
        "                    nn.InstanceNorm2d(64),\n",
        "                    nn.ReLU(inplace=True) ]\n",
        "        \n",
        "        # Downsampling\n",
        "        in_features = 64\n",
        "        out_features = in_features * 2\n",
        "        for _ in range(3):\n",
        "            model += [  nn.Conv2d(in_features, out_features, 4, stride=2, padding=2),\n",
        "                        nn.InstanceNorm2d(out_features),\n",
        "                        nn.ReLU(inplace=True) ]\n",
        "            in_features = out_features\n",
        "            out_features = in_features * 2\n",
        "\n",
        "        # Output layer\n",
        "        model += [ nn.Conv2d(512, 1, 4) ]\n",
        "\n",
        "        self.model = nn.Sequential(*model)\n",
        "\n",
        "    def forward(self, x):\n",
        "        return self.model(x).view(1)\n",
        "\n",
        "    def save_model(self, file_path, num_to_keep=1):\n",
        "        save(self, file_path, num_to_keep)\n",
        "        \n",
        "    def load_last_model(self, dir_path):\n",
        "        return restore_latest(self, dir_path)"
      ],
      "execution_count": null,
      "outputs": []
    },
    {
      "cell_type": "markdown",
      "metadata": {
        "id": "TDWSBCSpzzFt"
      },
      "source": [
        "## Replay Buffer class"
      ]
    },
    {
      "cell_type": "code",
      "metadata": {
        "id": "mJeD9_-FzyVx"
      },
      "source": [
        "class ReplayBuffer():\n",
        "    def __init__(self, max_size=50):\n",
        "        assert (max_size > 0), 'Empty buffer or trying to create a black hole. Be careful.'\n",
        "        self.max_size = max_size\n",
        "        self.data = []\n",
        "\n",
        "    def push_and_pop(self, data):\n",
        "        to_return = []\n",
        "        for element in data.data:\n",
        "            element = torch.unsqueeze(element, 0)\n",
        "            if len(self.data) < self.max_size:\n",
        "                self.data.append(element)\n",
        "                to_return.append(element)\n",
        "            else:\n",
        "                if random.uniform(0,1) > 0.5:\n",
        "                    i = random.randint(0, self.max_size-1)\n",
        "                    to_return.append(self.data[i].clone())\n",
        "                    self.data[i] = element\n",
        "                else:\n",
        "                    to_return.append(element)\n",
        "        return Variable(torch.cat(to_return))"
      ],
      "execution_count": null,
      "outputs": []
    },
    {
      "cell_type": "markdown",
      "metadata": {
        "id": "HF3LhE3eg6bo"
      },
      "source": [
        "## Weight initialization function"
      ]
    },
    {
      "cell_type": "code",
      "metadata": {
        "id": "0egGZsEbym5m"
      },
      "source": [
        "def weights_init_normal(m):\n",
        "    classname = m.__class__.__name__\n",
        "    if classname.find('Conv') != -1:\n",
        "        torch.nn.init.normal_(m.weight.data, 0.0, 0.02)\n",
        "    elif classname.find('BatchNorm2d') != -1:\n",
        "        torch.nn.init.normal_(m.weight.data, 1.0, 0.02)\n",
        "        torch.nn.init.constant_(m.bias.data, 0.0)"
      ],
      "execution_count": null,
      "outputs": []
    },
    {
      "cell_type": "markdown",
      "metadata": {
        "id": "70mmFH_egtZU"
      },
      "source": [
        "## Train and test functions\n",
        "\n",
        "These functions each run one epoch of the training and testing. "
      ]
    },
    {
      "cell_type": "code",
      "metadata": {
        "id": "2R2gX1eIlpCr"
      },
      "source": [
        "### Train and Test fuctions ###\n",
        "\n",
        "def train(dataloader, epoch, log_interval, lambda1, lambda2,\n",
        "          netG_A2B, netG_B2A, netD_A, netD_B,\n",
        "          optimizer_G, optimizer_D_A, optimizer_D_B,\n",
        "          criterion_identity, criterion_GAN, criterion_cycle,\n",
        "          input_A, input_B, fake_A_buffer, fake_B_buffer,\n",
        "          target_real, target_fake, d_interval):\n",
        "  netG_A2B.train()\n",
        "  netG_B2A.train()\n",
        "  netD_A.train()\n",
        "  netD_B.train()\n",
        "\n",
        "  losses_G = []\n",
        "  losses_D_A = []\n",
        "  losses_D_B = []\n",
        "\n",
        "  for batch_idx, batch in enumerate(dataloader):\n",
        "    # Set model input\n",
        "    real_A = Variable(input_A.copy_(batch['A']))\n",
        "    real_B = Variable(input_B.copy_(batch['B']))\n",
        "\n",
        "    ###### Generators A2B and B2A ######\n",
        "    optimizer_G.zero_grad()\n",
        "\n",
        "    # GAN loss\n",
        "    fake_B = netG_A2B(real_A)\n",
        "    pred_fake = netD_B(fake_B)\n",
        "    loss_GAN_A2B = criterion_GAN(pred_fake, target_real)\n",
        "\n",
        "    fake_A = netG_B2A(real_B)\n",
        "    pred_fake = netD_A(fake_A)\n",
        "    # print(pred_fake)\n",
        "    loss_GAN_B2A = criterion_GAN(pred_fake, target_real)\n",
        "\n",
        "    # Cycle loss\n",
        "    recovered_A = netG_B2A(fake_B)\n",
        "    loss_cycle_ABA = criterion_cycle(recovered_A, real_A)*lambda1\n",
        "\n",
        "    recovered_B = netG_A2B(fake_A)\n",
        "    loss_cycle_BAB = criterion_cycle(recovered_B, real_B)*lambda2\n",
        "\n",
        "    # Total loss\n",
        "    loss_G = loss_GAN_A2B + loss_GAN_B2A + loss_cycle_ABA + loss_cycle_BAB\n",
        "    losses_G.append(loss_G.item())\n",
        "    loss_G.backward()\n",
        "    \n",
        "    optimizer_G.step()\n",
        "    ###################################\n",
        "\n",
        "    ###### Discriminator A ######\n",
        "    optimizer_D_A.zero_grad()\n",
        "\n",
        "    # Real loss\n",
        "    pred_real = netD_A(real_A)\n",
        "    loss_D_real = criterion_GAN(pred_real, target_real)\n",
        "\n",
        "    # Fake loss\n",
        "    fake_A = fake_A_buffer.push_and_pop(fake_A)\n",
        "    pred_fake = netD_A(fake_A.detach())\n",
        "    loss_D_fake = criterion_GAN(pred_fake, target_fake)\n",
        "\n",
        "    # Total loss\n",
        "    loss_D_A = (loss_D_real + loss_D_fake)\n",
        "    losses_D_A.append(loss_D_A.item())\n",
        "    if epoch % d_interval == 0:\n",
        "      loss_D_A.backward()\n",
        "\n",
        "    optimizer_D_A.step()\n",
        "    ###################################\n",
        "\n",
        "    ###### Discriminator B ######\n",
        "    optimizer_D_B.zero_grad()\n",
        "\n",
        "    # Real loss\n",
        "    pred_real = netD_B(real_B)\n",
        "    loss_D_real = criterion_GAN(pred_real, target_real)\n",
        "    \n",
        "    # Fake loss\n",
        "    fake_B = fake_B_buffer.push_and_pop(fake_B)\n",
        "    pred_fake = netD_B(fake_B.detach())\n",
        "    loss_D_fake = criterion_GAN(pred_fake, target_fake)\n",
        "\n",
        "    # Total loss\n",
        "    loss_D_B = (loss_D_real + loss_D_fake)\n",
        "    losses_D_B.append(loss_D_B.item())\n",
        "    if epoch % d_interval == 0:\n",
        "      loss_D_B.backward()\n",
        "\n",
        "    optimizer_D_B.step()\n",
        "    ###################################\n",
        "\n",
        "    if batch_idx % log_interval == 0:\n",
        "      print(\"\\nEpoch\", epoch, \": Batch number\", batch_idx)\n",
        "      print(\"generator train loss (total)\", loss_G.item())\n",
        "      print(\"discriminator A's train loss (total)\", loss_D_A.item())\n",
        "      print(\"discriminator B's train loss (total)\", loss_D_B.item())\n",
        "  return np.mean(losses_G), np.mean(losses_D_A), np.mean(losses_D_B)\n",
        "\n",
        "def test(testloader, epoch, reference_class, target_class, \n",
        "         netG_A2B, netG_B2A, input_A, input_B, \n",
        "         log_interval=None, log_path=DATA_PATH):\n",
        "  netG_A2B.eval()\n",
        "  netG_B2A.eval()\n",
        "\n",
        "  with torch.no_grad():\n",
        "    for batch_idx, batch in enumerate(testloader):\n",
        "      # Set model input\n",
        "      real_A = Variable(input_A.copy_(batch['A']))\n",
        "      real_B = Variable(input_B.copy_(batch['B']))\n",
        "\n",
        "      # Generate output \n",
        "      fake_B = netG_A2B(real_A).data\n",
        "      fake_A = netG_B2A(real_B).data\n",
        "\n",
        "      if log_interval is not None and batch_idx % log_interval == 0:\n",
        "        print(\"Epoch\", epoch, \": Batch number\", batch_idx)\n",
        "        _save_and_display_image(real_A[0][0].cpu(), \"Real \" + reference_class, log_path, 'real_%s_%03d_%03d.png' % (reference_class, epoch, batch_idx))\n",
        "        _save_and_display_image(real_B[0][0].cpu(), \"Real \" + target_class, log_path, 'real_%s_%03d_%03d.png' % (target_class, epoch, batch_idx))\n",
        "        _save_and_display_image(fake_A[0][0].cpu(), \"Fake \" + reference_class, log_path, 'fake_%s_%03d_%03d.png' % (reference_class, epoch, batch_idx))\n",
        "        _save_and_display_image(fake_B[0][0].cpu(), \"Fake \" + target_class, log_path, 'fake_%s_%03d_%03d.png' % (target_class, epoch, batch_idx))"
      ],
      "execution_count": null,
      "outputs": []
    },
    {
      "cell_type": "markdown",
      "metadata": {
        "id": "UM37UOtypP-d"
      },
      "source": [
        "# Training the model\n",
        "\n",
        "Run the following cell to train your CycleGAN model. Before running, make sure that your reference class, target class, and hyperparameters are what you want them to be. If you want to continue training a model, set `EXPERIMENT_VERSION` to a number you have used previously. Otherwise, make sure to change `EXPEIRMENT_VERSION` to avoid reading/overwriting previous model information.\n",
        "\n",
        "Feel free to experiment with different hyperparameters to see how it affects training!"
      ]
    },
    {
      "cell_type": "code",
      "metadata": {
        "id": "kQzO9_a8fizq",
        "colab": {
          "base_uri": "https://localhost:8080/",
          "height": 1000
        },
        "outputId": "5417f3aa-2494-4e3e-9ee6-6313e4a4c385"
      },
      "source": [
        "###### Definition of variables ######\n",
        "GEN_A2B_PATH = \"G_A2B/\" # Where the reference -> target model checkpoints are saved\n",
        "GEN_B2A_PATH = \"G_B2A/\" # Where the target -> reference model checkpoints are saved\n",
        "DISC_A_PATH = \"D_A/\" # Where the reference class discriminator model checkpoints are saved\n",
        "DISC_B_PATH = \"D_B/\" # Where the target class discriminator model checkpoints are saved\n",
        "\n",
        "REFERENCE_CLASS = \"Neutral\"\n",
        "TARGET_CLASS = \"Disgust\"\n",
        "\n",
        "# Hyperparameters\n",
        "BATCH_SIZE = 1 \n",
        "IMAGE_SIZE = 48\n",
        "INPUT_CHANNELS = 1\n",
        "OUTPUT_CHANNELS = 1\n",
        "EPOCHS = 5\n",
        "LEARNING_RATE = 0.0002\n",
        "PRINT_INTERVAL = 500\n",
        "BETA_1 = 0.5\n",
        "LAMBDA_1 = 10.0\n",
        "LAMBDA_2 = 10.0\n",
        "D_INTERVAL = 5 # Interval for discriminator training\n",
        "\n",
        "EXPERIMENT_VERSION = \"0.13\" # increment this to start a new experiment\n",
        "LOG_PATH = BASE_PATH + 'logs/' + EXPERIMENT_VERSION + '/'\n",
        "\n",
        "USE_CUDA = True\n",
        "num_workers = multiprocessing.cpu_count()\n",
        "device = torch.device(\"cuda\" if USE_CUDA and torch.cuda.is_available() else \"cpu\")\n",
        "\n",
        "# Networks\n",
        "netG_A2B = Generator(input_nc=INPUT_CHANNELS, output_nc=OUTPUT_CHANNELS)\n",
        "netG_B2A = Generator(input_nc=OUTPUT_CHANNELS, output_nc=INPUT_CHANNELS)\n",
        "netD_A = Discriminator(input_nc=INPUT_CHANNELS)\n",
        "netD_B = Discriminator(input_nc=OUTPUT_CHANNELS)\n",
        "\n",
        "netG_A2B.to(device)\n",
        "netG_B2A.to(device)\n",
        "netD_A.to(device)\n",
        "netD_B.to(device)\n",
        "\n",
        "netG_A2B.apply(weights_init_normal)\n",
        "netG_B2A.apply(weights_init_normal)\n",
        "netD_A.apply(weights_init_normal)\n",
        "netD_B.apply(weights_init_normal)\n",
        "\n",
        "# Lossess\n",
        "criterion_GAN = nn.MSELoss()\n",
        "criterion_cycle = nn.L1Loss()\n",
        "criterion_identity = nn.L1Loss()\n",
        "\n",
        "# Optimizers\n",
        "optimizer_G = torch.optim.Adam(itertools.chain(netG_A2B.parameters(), netG_B2A.parameters()), lr=LEARNING_RATE, betas=(BETA_1, 0.999))\n",
        "optimizer_D_A = torch.optim.Adam(netD_A.parameters(), lr=LEARNING_RATE, betas=(BETA_1, 0.999))\n",
        "optimizer_D_B = torch.optim.Adam(netD_B.parameters(), lr=LEARNING_RATE, betas=(BETA_1, 0.999))\n",
        "\n",
        "# Inputs & targets memory allocation\n",
        "input_A = torch.Tensor(BATCH_SIZE, INPUT_CHANNELS, IMAGE_SIZE, IMAGE_SIZE).to(device)\n",
        "input_B = torch.Tensor(BATCH_SIZE, OUTPUT_CHANNELS, IMAGE_SIZE, IMAGE_SIZE).to(device)\n",
        "target_real = Variable(torch.Tensor(BATCH_SIZE).fill_(1.0), requires_grad=False).to(device)\n",
        "target_fake = Variable(torch.Tensor(BATCH_SIZE).fill_(0.0), requires_grad=False).to(device)\n",
        "\n",
        "fake_A_buffer = ReplayBuffer()\n",
        "fake_B_buffer = ReplayBuffer()\n",
        "\n",
        "# Dataset loader\n",
        "transforms_train = [ transforms.RandomHorizontalFlip() ]\n",
        "transforms_test = None\n",
        "dataloader = DataLoader(FER2013(classA=REFERENCE_CLASS, classB=TARGET_CLASS, transforms_=transforms_train, unaligned=True), batch_size=BATCH_SIZE, shuffle=True, num_workers=num_workers)\n",
        "testloader = DataLoader(FER2013(classA=REFERENCE_CLASS, classB=TARGET_CLASS, split='PublicTest', transforms_=transforms_test, unaligned=True), batch_size=BATCH_SIZE, shuffle=False, num_workers=num_workers)\n",
        "###################################\n",
        "\n",
        "if not os.path.exists(LOG_PATH + 'images/'):\n",
        "    os.makedirs(LOG_PATH + 'images/')\n",
        "\n",
        "train_losses_G, train_losses_D_A, train_losses_D_B, test_losses_G, test_losses_D_A, test_losses_D_B = read_log(LOG_PATH + 'log.pkl', ([], [], [], [], [], []))\n",
        "\n",
        "# Start at last checkpoint\n",
        "start_epoch = min([netG_A2B.load_last_model(LOG_PATH + GEN_A2B_PATH),\n",
        "                   netG_B2A.load_last_model(LOG_PATH + GEN_B2A_PATH),\n",
        "                   netD_A.load_last_model(LOG_PATH + DISC_A_PATH),\n",
        "                   netD_B.load_last_model(LOG_PATH + DISC_B_PATH)])\n",
        "\n",
        "print(\"Resuming at epoch\", start_epoch)\n",
        "\n",
        "\n",
        "try:\n",
        "  for epoch in range(start_epoch, EPOCHS + 1):\n",
        "    train_loss_G, train_loss_D_A, train_loss_D_B = train(dataloader, epoch, PRINT_INTERVAL, LAMBDA_1, LAMBDA_2, \n",
        "                                                         netG_A2B, netG_B2A, netD_A, netD_B, \n",
        "                                                         optimizer_G, optimizer_D_A, optimizer_D_B, \n",
        "                                                         criterion_identity, criterion_GAN, criterion_cycle, \n",
        "                                                         input_A, input_B, fake_A_buffer, fake_B_buffer, \n",
        "                                                         target_real, target_fake, D_INTERVAL)\n",
        "    test(testloader, epoch, REFERENCE_CLASS, TARGET_CLASS, netG_A2B, netG_B2A, input_A, input_B, \n",
        "         log_interval=PRINT_INTERVAL, log_path=(LOG_PATH + \"images/\"))\n",
        "\n",
        "    # Keep track of losses over many epochs\n",
        "    train_losses_G.append((epoch, train_loss_G))\n",
        "    train_losses_D_A.append((epoch, train_loss_D_A))\n",
        "    train_losses_D_B.append((epoch, train_loss_D_B))\n",
        "\n",
        "    # Save model checkpoints\n",
        "    print(\"Writing log...\")\n",
        "    write_log(LOG_PATH + 'log.pkl', (train_losses_G, train_losses_D_A, train_losses_D_B, \n",
        "                                             test_losses_G, test_losses_D_A, test_losses_D_B))\n",
        "    netG_A2B.save_model(LOG_PATH + GEN_A2B_PATH + '%03d.pt' % epoch, 0)\n",
        "    netG_B2A.save_model(LOG_PATH + GEN_B2A_PATH + '%03d.pt' % epoch, 0)\n",
        "    netD_A.save_model(LOG_PATH + DISC_A_PATH + '%03d.pt' % epoch, 0)\n",
        "    netD_B.save_model(LOG_PATH + DISC_B_PATH + '%03d.pt' % epoch, 0)\n",
        "\n",
        "except KeyboardInterrupt as ke:\n",
        "  print('Interrupted')\n",
        "except:\n",
        "  import traceback\n",
        "  traceback.print_exc()\n",
        "finally:\n",
        "  # Save model\n",
        "  netG_A2B.save_model(LOG_PATH + GEN_A2B_PATH + '%03d.pt' % epoch, 0)\n",
        "  netG_B2A.save_model(LOG_PATH + GEN_B2A_PATH + '%03d.pt' % epoch, 0)\n",
        "  netD_A.save_model(LOG_PATH + DISC_A_PATH + '%03d.pt' % epoch, 0)\n",
        "  netD_B.save_model(LOG_PATH + DISC_B_PATH + '%03d.pt' % epoch, 0)\n",
        "\n",
        "  # Show loss plots\n",
        "  ep, val = zip(*train_losses_G)\n",
        "  plot(ep, val, 'Train loss (Generator)', 'Epoch', 'Error')\n",
        "  ep, val = zip(*train_losses_D_A)\n",
        "  plot(ep, val, 'Train loss (Discriminator A)', 'Epoch', 'Error')\n",
        "  ep, val = zip(*train_losses_D_B)\n",
        "  plot(ep, val, 'Train loss (Discriminator B)', 'Epoch', 'Error')"
      ],
      "execution_count": null,
      "outputs": [
        {
          "output_type": "stream",
          "text": [
            "Resuming at epoch 0\n",
            "\n",
            "Epoch 0 : Batch number 0\n",
            "generator train loss (total) 1700.6256103515625\n",
            "discriminator A's train loss (total) 6.632560729980469\n",
            "discriminator B's train loss (total) 1.3292224407196045\n",
            "\n",
            "Epoch 0 : Batch number 500\n",
            "generator train loss (total) 970.384521484375\n",
            "discriminator A's train loss (total) 10.297931671142578\n",
            "discriminator B's train loss (total) 1.5095298290252686\n",
            "\n",
            "Epoch 0 : Batch number 1000\n",
            "generator train loss (total) 1151.8692626953125\n",
            "discriminator A's train loss (total) 4.677032470703125\n",
            "discriminator B's train loss (total) 0.32039156556129456\n",
            "\n",
            "Epoch 0 : Batch number 1500\n",
            "generator train loss (total) 628.6248168945312\n",
            "discriminator A's train loss (total) 1.0699831247329712\n",
            "discriminator B's train loss (total) 0.5451933741569519\n",
            "\n",
            "Epoch 0 : Batch number 2000\n",
            "generator train loss (total) 713.375244140625\n",
            "discriminator A's train loss (total) 0.21745958924293518\n",
            "discriminator B's train loss (total) 0.39720413088798523\n",
            "\n",
            "Epoch 0 : Batch number 2500\n",
            "generator train loss (total) 599.84326171875\n",
            "discriminator A's train loss (total) 0.9515281915664673\n",
            "discriminator B's train loss (total) 0.015072055160999298\n",
            "\n",
            "Epoch 0 : Batch number 3000\n",
            "generator train loss (total) 568.066650390625\n",
            "discriminator A's train loss (total) 0.26037871837615967\n",
            "discriminator B's train loss (total) 0.004368698224425316\n",
            "\n",
            "Epoch 0 : Batch number 3500\n",
            "generator train loss (total) 621.9962158203125\n",
            "discriminator A's train loss (total) 0.26821988821029663\n",
            "discriminator B's train loss (total) 0.0432949997484684\n",
            "\n",
            "Epoch 0 : Batch number 4000\n",
            "generator train loss (total) 533.8582763671875\n",
            "discriminator A's train loss (total) 0.031105197966098785\n",
            "discriminator B's train loss (total) 0.0309397391974926\n",
            "\n",
            "Epoch 0 : Batch number 4500\n",
            "generator train loss (total) 827.1888427734375\n",
            "discriminator A's train loss (total) 0.11384844779968262\n",
            "discriminator B's train loss (total) 0.29838892817497253\n",
            "Epoch 0 : Batch number 1\n",
            "Real Neutral :\n"
          ],
          "name": "stdout"
        },
        {
          "output_type": "display_data",
          "data": {
            "image/png": "[encoded data removed]",
            "text/plain": [
              "<PIL.Image.Image image mode=RGB size=48x48 at 0x7F688BE76550>"
            ]
          },
          "metadata": {
            "tags": []
          }
        },
        {
          "output_type": "stream",
          "text": [
            "Real Disgust :\n"
          ],
          "name": "stdout"
        },
        {
          "output_type": "display_data",
          "data": {
            "image/png": "[encoded data removed]",
            "text/plain": [
              "<PIL.Image.Image image mode=RGB size=48x48 at 0x7F688BE76550>"
            ]
          },
          "metadata": {
            "tags": []
          }
        },
        {
          "output_type": "stream",
          "text": [
            "Fake Neutral :\n"
          ],
          "name": "stdout"
        },
        {
          "output_type": "display_data",
          "data": {
            "image/png": "[encoded data removed]",
            "text/plain": [
              "<PIL.Image.Image image mode=RGB size=48x48 at 0x7F688BE76320>"
            ]
          },
          "metadata": {
            "tags": []
          }
        },
        {
          "output_type": "stream",
          "text": [
            "Fake Disgust :\n"
          ],
          "name": "stdout"
        },
        {
          "output_type": "display_data",
          "data": {
            "image/png": "[encoded data removed]",
            "text/plain": [
              "<PIL.Image.Image image mode=RGB size=48x48 at 0x7F688BE76320>"
            ]
          },
          "metadata": {
            "tags": []
          }
        },
        {
          "output_type": "stream",
          "text": [
            "Epoch 0 : Batch number 501\n",
            "Real Neutral :\n"
          ],
          "name": "stdout"
        },
        {
          "output_type": "display_data",
          "data": {
            "image/png": "[encoded data removed]",
            "text/plain": [
              "<PIL.Image.Image image mode=RGB size=48x48 at 0x7F688BFDEE48>"
            ]
          },
          "metadata": {
            "tags": []
          }
        },
        {
          "output_type": "stream",
          "text": [
            "Real Disgust :\n"
          ],
          "name": "stdout"
        },
        {
          "output_type": "display_data",
          "data": {
            "image/png": "[encoded data removed]",
            "text/plain": [
              "<PIL.Image.Image image mode=RGB size=48x48 at 0x7F688BFDEEF0>"
            ]
          },
          "metadata": {
            "tags": []
          }
        },
        {
          "output_type": "stream",
          "text": [
            "Fake Neutral :\n"
          ],
          "name": "stdout"
        },
        {
          "output_type": "display_data",
          "data": {
            "image/png": "[encoded data removed]",
            "text/plain": [
              "<PIL.Image.Image image mode=RGB size=48x48 at 0x7F688BFDEEF0>"
            ]
          },
          "metadata": {
            "tags": []
          }
        },
        {
          "output_type": "stream",
          "text": [
            "Fake Disgust :\n"
          ],
          "name": "stdout"
        },
        {
          "output_type": "display_data",
          "data": {
            "image/png": "[encoded data removed]",
            "text/plain": [
              "<PIL.Image.Image image mode=RGB size=48x48 at 0x7F688BFDEFD0>"
            ]
          },
          "metadata": {
            "tags": []
          }
        },
        {
          "output_type": "stream",
          "text": [
            "Writing log...\n",
            "Saved /gdrive/My Drive/colab_files/final_project/logs/0.13/G_A2B/000.pt\n",
            "\n",
            "Saved /gdrive/My Drive/colab_files/final_project/logs/0.13/G_B2A/000.pt\n",
            "\n",
            "Saved /gdrive/My Drive/colab_files/final_project/logs/0.13/D_A/000.pt\n",
            "\n",
            "Saved /gdrive/My Drive/colab_files/final_project/logs/0.13/D_B/000.pt\n",
            "\n",
            "\n",
            "Epoch 1 : Batch number 0\n",
            "generator train loss (total) 492.70654296875\n",
            "discriminator A's train loss (total) 0.03367992118000984\n",
            "discriminator B's train loss (total) 0.1773274540901184\n",
            "Interrupted\n",
            "Saved /gdrive/My Drive/colab_files/final_project/logs/0.13/G_A2B/001.pt\n",
            "\n",
            "Saved /gdrive/My Drive/colab_files/final_project/logs/0.13/G_B2A/001.pt\n",
            "\n",
            "Saved /gdrive/My Drive/colab_files/final_project/logs/0.13/D_A/001.pt\n",
            "\n",
            "Saved /gdrive/My Drive/colab_files/final_project/logs/0.13/D_B/001.pt\n",
            "\n"
          ],
          "name": "stdout"
        },
        {
          "output_type": "display_data",
          "data": {
            "image/png": "[encoded data removed]",
            "text/plain": [
              "<Figure size 1440x720 with 1 Axes>"
            ]
          },
          "metadata": {
            "tags": [],
            "needs_background": "light"
          }
        },
        {
          "output_type": "display_data",
          "data": {
            "image/png": "[encoded data removed]",
            "text/plain": [
              "<Figure size 1440x720 with 1 Axes>"
            ]
          },
          "metadata": {
            "tags": [],
            "needs_background": "light"
          }
        },
        {
          "output_type": "display_data",
          "data": {
            "image/png": "[encoded data removed]",
            "text/plain": [
              "<Figure size 1440x720 with 1 Axes>"
            ]
          },
          "metadata": {
            "tags": [],
            "needs_background": "light"
          }
        }
      ]
    },
    {
      "cell_type": "markdown",
      "metadata": {
        "id": "6MqnhJePpkpg"
      },
      "source": [
        "# Testing the model\n",
        "\n",
        "Run the cell below to test the model by generating images using input from the test set. Make sure that the reference class, target class, and hyperparameters are consistent with the ones you used on the trained CycleGAN model you're testing. Change which model you're using by changing `EXPERIMENT_VERSION`.\n",
        "\n",
        "The images generated here will be displayed in the console and also saved to your drive at `TEST_PATH` so make sure you have this set to the correct location in your Drive!"
      ]
    },
    {
      "cell_type": "code",
      "metadata": {
        "id": "UtFtOHqTpkWG",
        "colab": {
          "base_uri": "https://localhost:8080/",
          "height": 1000
        },
        "outputId": "1eaccb42-0b93-4b13-fe73-32b76dde35dc"
      },
      "source": [
        "###### Definition of variables ######\n",
        "\n",
        "###### Definition of variables ######\n",
        "GEN_A2B_PATH = \"G_A2B/\" # Where the reference -> target model checkpoints are saved\n",
        "GEN_B2A_PATH = \"G_B2A/\" # Where the target -> reference model checkpoints are saved\n",
        "\n",
        "REFERENCE_CLASS = \"Neutral\"\n",
        "TARGET_CLASS = \"Disgust\"\n",
        "\n",
        "# Hyperparameters\n",
        "BATCH_SIZE = 1 \n",
        "IMAGE_SIZE = 48\n",
        "INPUT_CHANNELS = 1\n",
        "OUTPUT_CHANNELS = 1\n",
        "\n",
        "EXPERIMENT_VERSION = \"0.13\" # version of model to use for image generation\n",
        "LOG_PATH = BASE_PATH + 'logs/' + EXPERIMENT_VERSION + '/'\n",
        "\n",
        "USE_CUDA = True\n",
        "num_workers = multiprocessing.cpu_count()\n",
        "device = torch.device(\"cuda\" if USE_CUDA and torch.cuda.is_available() else \"cpu\")\n",
        "\n",
        "# Networks\n",
        "netG_A2B = Generator(INPUT_CHANNELS, OUTPUT_CHANNELS).to(device)\n",
        "netG_B2A = Generator(OUTPUT_CHANNELS, INPUT_CHANNELS).to(device)\n",
        "\n",
        "# Load state dicts\n",
        "start_epoch = min([netG_A2B.load_last_model(LOG_PATH + GEN_A2B_PATH),\n",
        "                  netG_B2A.load_last_model(LOG_PATH + GEN_B2A_PATH)])\n",
        "print(\"model version:\", start_epoch)\n",
        "TEST_PATH = LOG_PATH + \"test_images_\" + str(start_epoch) + \"/\"\n",
        "\n",
        "# Set model's test mode\n",
        "netG_A2B.eval()\n",
        "netG_B2A.eval()\n",
        "\n",
        "# Inputs & targets memory allocation\n",
        "input_A = torch.Tensor(BATCH_SIZE, INPUT_CHANNELS, IMAGE_SIZE, IMAGE_SIZE).to(device)\n",
        "input_B = torch.Tensor(BATCH_SIZE, OUTPUT_CHANNELS, IMAGE_SIZE, IMAGE_SIZE).to(device)\n",
        "\n",
        "# Dataset loader\n",
        "transforms_ = None\n",
        "testloader = DataLoader(FER2013(classA=REFERENCE_CLASS, classB=TARGET_CLASS, split='PrivateTest', transforms_=transforms_, unaligned=True), batch_size=BATCH_SIZE, shuffle=False, num_workers=num_workers)\n",
        "###################################\n",
        "\n",
        "# Create output folders if they don't exist\n",
        "if not os.path.exists(TEST_PATH):\n",
        "    os.makedirs(TEST_PATH)\n",
        "\n",
        "with torch.no_grad():\n",
        "  for batch_idx, batch in enumerate(testloader):\n",
        "    # Set model input\n",
        "    real_A = Variable(input_A.copy_(batch['A']))\n",
        "    real_B = Variable(input_B.copy_(batch['B']))\n",
        "\n",
        "    # Generate output \n",
        "    fake_B = netG_A2B(real_A).data\n",
        "    fake_A = netG_B2A(real_B).data\n",
        "\n",
        "    print(\"\\nBatch number\", batch_idx)\n",
        "    _save_and_display_image(real_A[0][0].cpu(), \"Real \" + REFERENCE_CLASS, TEST_PATH, '%03d_real_%s.png' % (batch_idx, REFERENCE_CLASS))\n",
        "    _save_and_display_image(real_B[0][0].cpu(), \"Real \" + TARGET_CLASS, TEST_PATH, '%03d_real_%s.png' % (batch_idx, TARGET_CLASS))\n",
        "    _save_and_display_image(fake_A[0][0].cpu(), \"Fake \" + REFERENCE_CLASS, TEST_PATH, '%03d_fake_%s.png' % (batch_idx, REFERENCE_CLASS))\n",
        "    _save_and_display_image(fake_B[0][0].cpu(), \"Fake \" + TARGET_CLASS, TEST_PATH, '%03d_fake_%s.png' % (batch_idx, TARGET_CLASS))\n"
      ],
      "execution_count": null,
      "outputs": [
        {
          "output_type": "stream",
          "text": [
            "Restoring:\n",
            "model.0.weight -> \ttorch.Size([64, 1, 7, 7]) = 0MB\n",
            "model.0.bias -> \ttorch.Size([64]) = 0MB\n",
            "model.3.weight -> \ttorch.Size([128, 64, 3, 3]) = 0MB\n",
            "model.3.bias -> \ttorch.Size([128]) = 0MB\n",
            "model.6.weight -> \ttorch.Size([256, 128, 3, 3]) = 1MB\n",
            "model.6.bias -> \ttorch.Size([256]) = 0MB\n",
            "model.9.conv_block.0.weight -> \ttorch.Size([256, 256, 3, 3]) = 2MB\n",
            "model.9.conv_block.0.bias -> \ttorch.Size([256]) = 0MB\n",
            "model.9.conv_block.1.weight -> \ttorch.Size([256]) = 0MB\n",
            "model.9.conv_block.1.bias -> \ttorch.Size([256]) = 0MB\n",
            "model.9.conv_block.1.running_mean -> \ttorch.Size([256]) = 0MB\n",
            "model.9.conv_block.1.running_var -> \ttorch.Size([256]) = 0MB\n",
            "model.9.conv_block.1.num_batches_tracked -> \ttorch.Size([]) = 0MB\n",
            "model.9.conv_block.3.weight -> \ttorch.Size([256, 256, 3, 3]) = 2MB\n",
            "model.9.conv_block.3.bias -> \ttorch.Size([256]) = 0MB\n",
            "model.9.conv_block.4.weight -> \ttorch.Size([256]) = 0MB\n",
            "model.9.conv_block.4.bias -> \ttorch.Size([256]) = 0MB\n",
            "model.9.conv_block.4.running_mean -> \ttorch.Size([256]) = 0MB\n",
            "model.9.conv_block.4.running_var -> \ttorch.Size([256]) = 0MB\n",
            "model.9.conv_block.4.num_batches_tracked -> \ttorch.Size([]) = 0MB\n",
            "model.10.conv_block.0.weight -> \ttorch.Size([256, 256, 3, 3]) = 2MB\n",
            "model.10.conv_block.0.bias -> \ttorch.Size([256]) = 0MB\n",
            "model.10.conv_block.1.weight -> \ttorch.Size([256]) = 0MB\n",
            "model.10.conv_block.1.bias -> \ttorch.Size([256]) = 0MB\n",
            "model.10.conv_block.1.running_mean -> \ttorch.Size([256]) = 0MB\n",
            "model.10.conv_block.1.running_var -> \ttorch.Size([256]) = 0MB\n",
            "model.10.conv_block.1.num_batches_tracked -> \ttorch.Size([]) = 0MB\n",
            "model.10.conv_block.3.weight -> \ttorch.Size([256, 256, 3, 3]) = 2MB\n",
            "model.10.conv_block.3.bias -> \ttorch.Size([256]) = 0MB\n",
            "model.10.conv_block.4.weight -> \ttorch.Size([256]) = 0MB\n",
            "model.10.conv_block.4.bias -> \ttorch.Size([256]) = 0MB\n",
            "model.10.conv_block.4.running_mean -> \ttorch.Size([256]) = 0MB\n",
            "model.10.conv_block.4.running_var -> \ttorch.Size([256]) = 0MB\n",
            "model.10.conv_block.4.num_batches_tracked -> \ttorch.Size([]) = 0MB\n",
            "model.11.conv_block.0.weight -> \ttorch.Size([256, 256, 3, 3]) = 2MB\n",
            "model.11.conv_block.0.bias -> \ttorch.Size([256]) = 0MB\n",
            "model.11.conv_block.1.weight -> \ttorch.Size([256]) = 0MB\n",
            "model.11.conv_block.1.bias -> \ttorch.Size([256]) = 0MB\n",
            "model.11.conv_block.1.running_mean -> \ttorch.Size([256]) = 0MB\n",
            "model.11.conv_block.1.running_var -> \ttorch.Size([256]) = 0MB\n",
            "model.11.conv_block.1.num_batches_tracked -> \ttorch.Size([]) = 0MB\n",
            "model.11.conv_block.3.weight -> \ttorch.Size([256, 256, 3, 3]) = 2MB\n",
            "model.11.conv_block.3.bias -> \ttorch.Size([256]) = 0MB\n",
            "model.11.conv_block.4.weight -> \ttorch.Size([256]) = 0MB\n",
            "model.11.conv_block.4.bias -> \ttorch.Size([256]) = 0MB\n",
            "model.11.conv_block.4.running_mean -> \ttorch.Size([256]) = 0MB\n",
            "model.11.conv_block.4.running_var -> \ttorch.Size([256]) = 0MB\n",
            "model.11.conv_block.4.num_batches_tracked -> \ttorch.Size([]) = 0MB\n",
            "model.12.conv_block.0.weight -> \ttorch.Size([256, 256, 3, 3]) = 2MB\n",
            "model.12.conv_block.0.bias -> \ttorch.Size([256]) = 0MB\n",
            "model.12.conv_block.1.weight -> \ttorch.Size([256]) = 0MB\n",
            "model.12.conv_block.1.bias -> \ttorch.Size([256]) = 0MB\n",
            "model.12.conv_block.1.running_mean -> \ttorch.Size([256]) = 0MB\n",
            "model.12.conv_block.1.running_var -> \ttorch.Size([256]) = 0MB\n",
            "model.12.conv_block.1.num_batches_tracked -> \ttorch.Size([]) = 0MB\n",
            "model.12.conv_block.3.weight -> \ttorch.Size([256, 256, 3, 3]) = 2MB\n",
            "model.12.conv_block.3.bias -> \ttorch.Size([256]) = 0MB\n",
            "model.12.conv_block.4.weight -> \ttorch.Size([256]) = 0MB\n",
            "model.12.conv_block.4.bias -> \ttorch.Size([256]) = 0MB\n",
            "model.12.conv_block.4.running_mean -> \ttorch.Size([256]) = 0MB\n",
            "model.12.conv_block.4.running_var -> \ttorch.Size([256]) = 0MB\n",
            "model.12.conv_block.4.num_batches_tracked -> \ttorch.Size([]) = 0MB\n",
            "model.13.conv_block.0.weight -> \ttorch.Size([256, 256, 3, 3]) = 2MB\n",
            "model.13.conv_block.0.bias -> \ttorch.Size([256]) = 0MB\n",
            "model.13.conv_block.1.weight -> \ttorch.Size([256]) = 0MB\n",
            "model.13.conv_block.1.bias -> \ttorch.Size([256]) = 0MB\n",
            "model.13.conv_block.1.running_mean -> \ttorch.Size([256]) = 0MB\n",
            "model.13.conv_block.1.running_var -> \ttorch.Size([256]) = 0MB\n",
            "model.13.conv_block.1.num_batches_tracked -> \ttorch.Size([]) = 0MB\n",
            "model.13.conv_block.3.weight -> \ttorch.Size([256, 256, 3, 3]) = 2MB\n",
            "model.13.conv_block.3.bias -> \ttorch.Size([256]) = 0MB\n",
            "model.13.conv_block.4.weight -> \ttorch.Size([256]) = 0MB\n",
            "model.13.conv_block.4.bias -> \ttorch.Size([256]) = 0MB\n",
            "model.13.conv_block.4.running_mean -> \ttorch.Size([256]) = 0MB\n",
            "model.13.conv_block.4.running_var -> \ttorch.Size([256]) = 0MB\n",
            "model.13.conv_block.4.num_batches_tracked -> \ttorch.Size([]) = 0MB\n",
            "model.14.conv_block.0.weight -> \ttorch.Size([256, 256, 3, 3]) = 2MB\n",
            "model.14.conv_block.0.bias -> \ttorch.Size([256]) = 0MB\n",
            "model.14.conv_block.1.weight -> \ttorch.Size([256]) = 0MB\n",
            "model.14.conv_block.1.bias -> \ttorch.Size([256]) = 0MB\n",
            "model.14.conv_block.1.running_mean -> \ttorch.Size([256]) = 0MB\n",
            "model.14.conv_block.1.running_var -> \ttorch.Size([256]) = 0MB\n",
            "model.14.conv_block.1.num_batches_tracked -> \ttorch.Size([]) = 0MB\n",
            "model.14.conv_block.3.weight -> \ttorch.Size([256, 256, 3, 3]) = 2MB\n",
            "model.14.conv_block.3.bias -> \ttorch.Size([256]) = 0MB\n",
            "model.14.conv_block.4.weight -> \ttorch.Size([256]) = 0MB\n",
            "model.14.conv_block.4.bias -> \ttorch.Size([256]) = 0MB\n",
            "model.14.conv_block.4.running_mean -> \ttorch.Size([256]) = 0MB\n",
            "model.14.conv_block.4.running_var -> \ttorch.Size([256]) = 0MB\n",
            "model.14.conv_block.4.num_batches_tracked -> \ttorch.Size([]) = 0MB\n",
            "model.15.weight -> \ttorch.Size([256, 128, 3, 3]) = 1MB\n",
            "model.15.bias -> \ttorch.Size([128]) = 0MB\n",
            "model.18.weight -> \ttorch.Size([128, 64, 3, 3]) = 0MB\n",
            "model.18.bias -> \ttorch.Size([64]) = 0MB\n",
            "model.21.weight -> \ttorch.Size([1, 64, 7, 7]) = 0MB\n",
            "model.21.bias -> \ttorch.Size([1]) = 0MB\n",
            "\n",
            "Restored all variables\n",
            "No new variables\n",
            "Restored /gdrive/My Drive/colab_files/final_project/logs/0.13/G_A2B/001.pt\n",
            "Restoring:\n",
            "model.0.weight -> \ttorch.Size([64, 1, 7, 7]) = 0MB\n",
            "model.0.bias -> \ttorch.Size([64]) = 0MB\n",
            "model.3.weight -> \ttorch.Size([128, 64, 3, 3]) = 0MB\n",
            "model.3.bias -> \ttorch.Size([128]) = 0MB\n",
            "model.6.weight -> \ttorch.Size([256, 128, 3, 3]) = 1MB\n",
            "model.6.bias -> \ttorch.Size([256]) = 0MB\n",
            "model.9.conv_block.0.weight -> \ttorch.Size([256, 256, 3, 3]) = 2MB\n",
            "model.9.conv_block.0.bias -> \ttorch.Size([256]) = 0MB\n",
            "model.9.conv_block.1.weight -> \ttorch.Size([256]) = 0MB\n",
            "model.9.conv_block.1.bias -> \ttorch.Size([256]) = 0MB\n",
            "model.9.conv_block.1.running_mean -> \ttorch.Size([256]) = 0MB\n",
            "model.9.conv_block.1.running_var -> \ttorch.Size([256]) = 0MB\n",
            "model.9.conv_block.1.num_batches_tracked -> \ttorch.Size([]) = 0MB\n",
            "model.9.conv_block.3.weight -> \ttorch.Size([256, 256, 3, 3]) = 2MB\n",
            "model.9.conv_block.3.bias -> \ttorch.Size([256]) = 0MB\n",
            "model.9.conv_block.4.weight -> \ttorch.Size([256]) = 0MB\n",
            "model.9.conv_block.4.bias -> \ttorch.Size([256]) = 0MB\n",
            "model.9.conv_block.4.running_mean -> \ttorch.Size([256]) = 0MB\n",
            "model.9.conv_block.4.running_var -> \ttorch.Size([256]) = 0MB\n",
            "model.9.conv_block.4.num_batches_tracked -> \ttorch.Size([]) = 0MB\n",
            "model.10.conv_block.0.weight -> \ttorch.Size([256, 256, 3, 3]) = 2MB\n",
            "model.10.conv_block.0.bias -> \ttorch.Size([256]) = 0MB\n",
            "model.10.conv_block.1.weight -> \ttorch.Size([256]) = 0MB\n",
            "model.10.conv_block.1.bias -> \ttorch.Size([256]) = 0MB\n",
            "model.10.conv_block.1.running_mean -> \ttorch.Size([256]) = 0MB\n",
            "model.10.conv_block.1.running_var -> \ttorch.Size([256]) = 0MB\n",
            "model.10.conv_block.1.num_batches_tracked -> \ttorch.Size([]) = 0MB\n",
            "model.10.conv_block.3.weight -> \ttorch.Size([256, 256, 3, 3]) = 2MB\n",
            "model.10.conv_block.3.bias -> \ttorch.Size([256]) = 0MB\n",
            "model.10.conv_block.4.weight -> \ttorch.Size([256]) = 0MB\n",
            "model.10.conv_block.4.bias -> \ttorch.Size([256]) = 0MB\n",
            "model.10.conv_block.4.running_mean -> \ttorch.Size([256]) = 0MB\n",
            "model.10.conv_block.4.running_var -> \ttorch.Size([256]) = 0MB\n",
            "model.10.conv_block.4.num_batches_tracked -> \ttorch.Size([]) = 0MB\n",
            "model.11.conv_block.0.weight -> \ttorch.Size([256, 256, 3, 3]) = 2MB\n",
            "model.11.conv_block.0.bias -> \ttorch.Size([256]) = 0MB\n",
            "model.11.conv_block.1.weight -> \ttorch.Size([256]) = 0MB\n",
            "model.11.conv_block.1.bias -> \ttorch.Size([256]) = 0MB\n",
            "model.11.conv_block.1.running_mean -> \ttorch.Size([256]) = 0MB\n",
            "model.11.conv_block.1.running_var -> \ttorch.Size([256]) = 0MB\n",
            "model.11.conv_block.1.num_batches_tracked -> \ttorch.Size([]) = 0MB\n",
            "model.11.conv_block.3.weight -> \ttorch.Size([256, 256, 3, 3]) = 2MB\n",
            "model.11.conv_block.3.bias -> \ttorch.Size([256]) = 0MB\n",
            "model.11.conv_block.4.weight -> \ttorch.Size([256]) = 0MB\n",
            "model.11.conv_block.4.bias -> \ttorch.Size([256]) = 0MB\n",
            "model.11.conv_block.4.running_mean -> \ttorch.Size([256]) = 0MB\n",
            "model.11.conv_block.4.running_var -> \ttorch.Size([256]) = 0MB\n",
            "model.11.conv_block.4.num_batches_tracked -> \ttorch.Size([]) = 0MB\n",
            "model.12.conv_block.0.weight -> \ttorch.Size([256, 256, 3, 3]) = 2MB\n",
            "model.12.conv_block.0.bias -> \ttorch.Size([256]) = 0MB\n",
            "model.12.conv_block.1.weight -> \ttorch.Size([256]) = 0MB\n",
            "model.12.conv_block.1.bias -> \ttorch.Size([256]) = 0MB\n",
            "model.12.conv_block.1.running_mean -> \ttorch.Size([256]) = 0MB\n",
            "model.12.conv_block.1.running_var -> \ttorch.Size([256]) = 0MB\n",
            "model.12.conv_block.1.num_batches_tracked -> \ttorch.Size([]) = 0MB\n",
            "model.12.conv_block.3.weight -> \ttorch.Size([256, 256, 3, 3]) = 2MB\n",
            "model.12.conv_block.3.bias -> \ttorch.Size([256]) = 0MB\n",
            "model.12.conv_block.4.weight -> \ttorch.Size([256]) = 0MB\n",
            "model.12.conv_block.4.bias -> \ttorch.Size([256]) = 0MB\n",
            "model.12.conv_block.4.running_mean -> \ttorch.Size([256]) = 0MB\n",
            "model.12.conv_block.4.running_var -> \ttorch.Size([256]) = 0MB\n",
            "model.12.conv_block.4.num_batches_tracked -> \ttorch.Size([]) = 0MB\n",
            "model.13.conv_block.0.weight -> \ttorch.Size([256, 256, 3, 3]) = 2MB\n",
            "model.13.conv_block.0.bias -> \ttorch.Size([256]) = 0MB\n",
            "model.13.conv_block.1.weight -> \ttorch.Size([256]) = 0MB\n",
            "model.13.conv_block.1.bias -> \ttorch.Size([256]) = 0MB\n",
            "model.13.conv_block.1.running_mean -> \ttorch.Size([256]) = 0MB\n",
            "model.13.conv_block.1.running_var -> \ttorch.Size([256]) = 0MB\n",
            "model.13.conv_block.1.num_batches_tracked -> \ttorch.Size([]) = 0MB\n",
            "model.13.conv_block.3.weight -> \ttorch.Size([256, 256, 3, 3]) = 2MB\n",
            "model.13.conv_block.3.bias -> \ttorch.Size([256]) = 0MB\n",
            "model.13.conv_block.4.weight -> \ttorch.Size([256]) = 0MB\n",
            "model.13.conv_block.4.bias -> \ttorch.Size([256]) = 0MB\n",
            "model.13.conv_block.4.running_mean -> \ttorch.Size([256]) = 0MB\n",
            "model.13.conv_block.4.running_var -> \ttorch.Size([256]) = 0MB\n",
            "model.13.conv_block.4.num_batches_tracked -> \ttorch.Size([]) = 0MB\n",
            "model.14.conv_block.0.weight -> \ttorch.Size([256, 256, 3, 3]) = 2MB\n",
            "model.14.conv_block.0.bias -> \ttorch.Size([256]) = 0MB\n",
            "model.14.conv_block.1.weight -> \ttorch.Size([256]) = 0MB\n",
            "model.14.conv_block.1.bias -> \ttorch.Size([256]) = 0MB\n",
            "model.14.conv_block.1.running_mean -> \ttorch.Size([256]) = 0MB\n",
            "model.14.conv_block.1.running_var -> \ttorch.Size([256]) = 0MB\n",
            "model.14.conv_block.1.num_batches_tracked -> \ttorch.Size([]) = 0MB\n",
            "model.14.conv_block.3.weight -> \ttorch.Size([256, 256, 3, 3]) = 2MB\n",
            "model.14.conv_block.3.bias -> \ttorch.Size([256]) = 0MB\n",
            "model.14.conv_block.4.weight -> \ttorch.Size([256]) = 0MB\n",
            "model.14.conv_block.4.bias -> \ttorch.Size([256]) = 0MB\n",
            "model.14.conv_block.4.running_mean -> \ttorch.Size([256]) = 0MB\n",
            "model.14.conv_block.4.running_var -> \ttorch.Size([256]) = 0MB\n",
            "model.14.conv_block.4.num_batches_tracked -> \ttorch.Size([]) = 0MB\n",
            "model.15.weight -> \ttorch.Size([256, 128, 3, 3]) = 1MB\n",
            "model.15.bias -> \ttorch.Size([128]) = 0MB\n",
            "model.18.weight -> \ttorch.Size([128, 64, 3, 3]) = 0MB\n",
            "model.18.bias -> \ttorch.Size([64]) = 0MB\n",
            "model.21.weight -> \ttorch.Size([1, 64, 7, 7]) = 0MB\n",
            "model.21.bias -> \ttorch.Size([1]) = 0MB\n",
            "\n",
            "Restored all variables\n",
            "No new variables\n",
            "Restored /gdrive/My Drive/colab_files/final_project/logs/0.13/G_B2A/001.pt\n",
            "model version: 1\n",
            "\n",
            "Batch number 0\n",
            "Real Neutral:\n"
          ],
          "name": "stdout"
        },
        {
          "output_type": "display_data",
          "data": {
            "image/png": "[encoded data removed]",
            "text/plain": [
              "<PIL.Image.Image image mode=RGB size=48x48 at 0x7F688BEA52B0>"
            ]
          },
          "metadata": {
            "tags": []
          }
        },
        {
          "output_type": "stream",
          "text": [
            "Real Disgust:\n"
          ],
          "name": "stdout"
        },
        {
          "output_type": "display_data",
          "data": {
            "image/png": "[encoded data removed]",
            "text/plain": [
              "<PIL.Image.Image image mode=RGB size=48x48 at 0x7F688BEA52B0>"
            ]
          },
          "metadata": {
            "tags": []
          }
        },
        {
          "output_type": "stream",
          "text": [
            "Fake Neutral:\n"
          ],
          "name": "stdout"
        },
        {
          "output_type": "display_data",
          "data": {
            "image/png": "[encoded data removed]",
            "text/plain": [
              "<PIL.Image.Image image mode=RGB size=48x48 at 0x7F688BEA5198>"
            ]
          },
          "metadata": {
            "tags": []
          }
        },
        {
          "output_type": "stream",
          "text": [
            "Fake Disgust:\n"
          ],
          "name": "stdout"
        },
        {
          "output_type": "display_data",
          "data": {
            "image/png": "[encoded data removed]",
            "text/plain": [
              "<PIL.Image.Image image mode=RGB size=48x48 at 0x7F688BEA5048>"
            ]
          },
          "metadata": {
            "tags": []
          }
        },
        {
          "output_type": "stream",
          "text": [
            "\n",
            "Batch number 1\n",
            "Real Neutral:\n"
          ],
          "name": "stdout"
        },
        {
          "output_type": "display_data",
          "data": {
            "image/png": "[encoded data removed]",
            "text/plain": [
              "<PIL.Image.Image image mode=RGB size=48x48 at 0x7F688BEA52E8>"
            ]
          },
          "metadata": {
            "tags": []
          }
        },
        {
          "output_type": "stream",
          "text": [
            "Real Disgust:\n"
          ],
          "name": "stdout"
        },
        {
          "output_type": "display_data",
          "data": {
            "image/png": "[encoded data removed]",
            "text/plain": [
              "<PIL.Image.Image image mode=RGB size=48x48 at 0x7F688BEA52E8>"
            ]
          },
          "metadata": {
            "tags": []
          }
        },
        {
          "output_type": "stream",
          "text": [
            "Fake Neutral:\n"
          ],
          "name": "stdout"
        },
        {
          "output_type": "display_data",
          "data": {
            "image/png": "[encoded data removed]",
            "text/plain": [
              "<PIL.Image.Image image mode=RGB size=48x48 at 0x7F688BEA5438>"
            ]
          },
          "metadata": {
            "tags": []
          }
        },
        {
          "output_type": "stream",
          "text": [
            "Fake Disgust:\n"
          ],
          "name": "stdout"
        },
        {
          "output_type": "display_data",
          "data": {
            "image/png": "[encoded data removed]",
            "text/plain": [
              "<PIL.Image.Image image mode=RGB size=48x48 at 0x7F688BEA5198>"
            ]
          },
          "metadata": {
            "tags": []
          }
        },
        {
          "output_type": "stream",
          "text": [
            "\n",
            "Batch number 2\n",
            "Real Neutral:\n"
          ],
          "name": "stdout"
        },
        {
          "output_type": "display_data",
          "data": {
            "image/png": "[encoded data removed]",
            "text/plain": [
              "<PIL.Image.Image image mode=RGB size=48x48 at 0x7F688BEA5080>"
            ]
          },
          "metadata": {
            "tags": []
          }
        },
        {
          "output_type": "stream",
          "text": [
            "Real Disgust:\n"
          ],
          "name": "stdout"
        },
        {
          "output_type": "display_data",
          "data": {
            "image/png": "[encoded data removed]",
            "text/plain": [
              "<PIL.Image.Image image mode=RGB size=48x48 at 0x7F688BEA5198>"
            ]
          },
          "metadata": {
            "tags": []
          }
        },
        {
          "output_type": "stream",
          "text": [
            "Fake Neutral:\n"
          ],
          "name": "stdout"
        },
        {
          "output_type": "display_data",
          "data": {
            "image/png": "[encoded data removed]",
            "text/plain": [
              "<PIL.Image.Image image mode=RGB size=48x48 at 0x7F688BEA5080>"
            ]
          },
          "metadata": {
            "tags": []
          }
        },
        {
          "output_type": "stream",
          "text": [
            "Fake Disgust:\n"
          ],
          "name": "stdout"
        },
        {
          "output_type": "display_data",
          "data": {
            "image/png": "[encoded data removed]",
            "text/plain": [
              "<PIL.Image.Image image mode=RGB size=48x48 at 0x7F688BEA51D0>"
            ]
          },
          "metadata": {
            "tags": []
          }
        },
        {
          "output_type": "stream",
          "text": [
            "\n",
            "Batch number 3\n",
            "Real Neutral:\n"
          ],
          "name": "stdout"
        },
        {
          "output_type": "display_data",
          "data": {
            "image/png": "[encoded data removed]",
            "text/plain": [
              "<PIL.Image.Image image mode=RGB size=48x48 at 0x7F688BEA5780>"
            ]
          },
          "metadata": {
            "tags": []
          }
        },
        {
          "output_type": "stream",
          "text": [
            "Real Disgust:\n"
          ],
          "name": "stdout"
        },
        {
          "output_type": "display_data",
          "data": {
            "image/png": "[encoded data removed]",
            "text/plain": [
              "<PIL.Image.Image image mode=RGB size=48x48 at 0x7F688BEA5780>"
            ]
          },
          "metadata": {
            "tags": []
          }
        },
        {
          "output_type": "stream",
          "text": [
            "Fake Neutral:\n"
          ],
          "name": "stdout"
        },
        {
          "output_type": "display_data",
          "data": {
            "image/png": "[encoded data removed]",
            "text/plain": [
              "<PIL.Image.Image image mode=RGB size=48x48 at 0x7F688BEA5F28>"
            ]
          },
          "metadata": {
            "tags": []
          }
        },
        {
          "output_type": "stream",
          "text": [
            "Fake Disgust:\n"
          ],
          "name": "stdout"
        },
        {
          "output_type": "display_data",
          "data": {
            "image/png": "[encoded data removed]",
            "text/plain": [
              "<PIL.Image.Image image mode=RGB size=48x48 at 0x7F688BEA51D0>"
            ]
          },
          "metadata": {
            "tags": []
          }
        },
        {
          "output_type": "stream",
          "text": [
            "\n",
            "Batch number 4\n",
            "Real Neutral:\n"
          ],
          "name": "stdout"
        },
        {
          "output_type": "display_data",
          "data": {
            "image/png": "[encoded data removed]",
            "text/plain": [
              "<PIL.Image.Image image mode=RGB size=48x48 at 0x7F688BEA5518>"
            ]
          },
          "metadata": {
            "tags": []
          }
        },
        {
          "output_type": "stream",
          "text": [
            "Real Disgust:\n"
          ],
          "name": "stdout"
        },
        {
          "output_type": "display_data",
          "data": {
            "image/png": "[encoded data removed]",
            "text/plain": [
              "<PIL.Image.Image image mode=RGB size=48x48 at 0x7F688BEA5518>"
            ]
          },
          "metadata": {
            "tags": []
          }
        },
        {
          "output_type": "stream",
          "text": [
            "Fake Neutral:\n"
          ],
          "name": "stdout"
        },
        {
          "output_type": "display_data",
          "data": {
            "image/png": "[encoded data removed]",
            "text/plain": [
              "<PIL.Image.Image image mode=RGB size=48x48 at 0x7F688BEA5F28>"
            ]
          },
          "metadata": {
            "tags": []
          }
        },
        {
          "output_type": "stream",
          "text": [
            "Fake Disgust:\n"
          ],
          "name": "stdout"
        },
        {
          "output_type": "display_data",
          "data": {
            "image/png": "[encoded data removed]",
            "text/plain": [
              "<PIL.Image.Image image mode=RGB size=48x48 at 0x7F688BEA5E80>"
            ]
          },
          "metadata": {
            "tags": []
          }
        },
        {
          "output_type": "stream",
          "text": [
            "\n",
            "Batch number 5\n",
            "Real Neutral:\n"
          ],
          "name": "stdout"
        },
        {
          "output_type": "display_data",
          "data": {
            "image/png": "[encoded data removed]",
            "text/plain": [
              "<PIL.Image.Image image mode=RGB size=48x48 at 0x7F688BEA56D8>"
            ]
          },
          "metadata": {
            "tags": []
          }
        },
        {
          "output_type": "stream",
          "text": [
            "Real Disgust:\n"
          ],
          "name": "stdout"
        },
        {
          "output_type": "display_data",
          "data": {
            "image/png": "[encoded data removed]",
            "text/plain": [
              "<PIL.Image.Image image mode=RGB size=48x48 at 0x7F688BEA56D8>"
            ]
          },
          "metadata": {
            "tags": []
          }
        },
        {
          "output_type": "stream",
          "text": [
            "Fake Neutral:\n"
          ],
          "name": "stdout"
        },
        {
          "output_type": "display_data",
          "data": {
            "image/png": "[encoded data removed]",
            "text/plain": [
              "<PIL.Image.Image image mode=RGB size=48x48 at 0x7F688BEA5F28>"
            ]
          },
          "metadata": {
            "tags": []
          }
        },
        {
          "output_type": "stream",
          "text": [
            "Fake Disgust:\n"
          ],
          "name": "stdout"
        },
        {
          "output_type": "display_data",
          "data": {
            "image/png": "[encoded data removed]",
            "text/plain": [
              "<PIL.Image.Image image mode=RGB size=48x48 at 0x7F688BEA5390>"
            ]
          },
          "metadata": {
            "tags": []
          }
        },
        {
          "output_type": "stream",
          "text": [
            "\n",
            "Batch number 6\n",
            "Real Neutral:\n"
          ],
          "name": "stdout"
        },
        {
          "output_type": "display_data",
          "data": {
            "image/png": "[encoded data removed]",
            "text/plain": [
              "<PIL.Image.Image image mode=RGB size=48x48 at 0x7F688BEA5550>"
            ]
          },
          "metadata": {
            "tags": []
          }
        },
        {
          "output_type": "stream",
          "text": [
            "Real Disgust:\n"
          ],
          "name": "stdout"
        },
        {
          "output_type": "display_data",
          "data": {
            "image/png": "[encoded data removed]",
            "text/plain": [
              "<PIL.Image.Image image mode=RGB size=48x48 at 0x7F688BEA5550>"
            ]
          },
          "metadata": {
            "tags": []
          }
        },
        {
          "output_type": "stream",
          "text": [
            "Fake Neutral:\n"
          ],
          "name": "stdout"
        },
        {
          "output_type": "display_data",
          "data": {
            "image/png": "[encoded data removed]",
            "text/plain": [
              "<PIL.Image.Image image mode=RGB size=48x48 at 0x7F688BEA5390>"
            ]
          },
          "metadata": {
            "tags": []
          }
        },
        {
          "output_type": "stream",
          "text": [
            "Fake Disgust:\n"
          ],
          "name": "stdout"
        },
        {
          "output_type": "display_data",
          "data": {
            "image/png": "[encoded data removed]",
            "text/plain": [
              "<PIL.Image.Image image mode=RGB size=48x48 at 0x7F688BEA5208>"
            ]
          },
          "metadata": {
            "tags": []
          }
        },
        {
          "output_type": "stream",
          "text": [
            "\n",
            "Batch number 7\n",
            "Real Neutral:\n"
          ],
          "name": "stdout"
        },
        {
          "output_type": "display_data",
          "data": {
            "image/png": "[encoded data removed]",
            "text/plain": [
              "<PIL.Image.Image image mode=RGB size=48x48 at 0x7F688BEA5320>"
            ]
          },
          "metadata": {
            "tags": []
          }
        },
        {
          "output_type": "stream",
          "text": [
            "Real Disgust:\n"
          ],
          "name": "stdout"
        },
        {
          "output_type": "display_data",
          "data": {
            "image/png": "[encoded data removed]",
            "text/plain": [
              "<PIL.Image.Image image mode=RGB size=48x48 at 0x7F688BEA5320>"
            ]
          },
          "metadata": {
            "tags": []
          }
        },
        {
          "output_type": "stream",
          "text": [
            "Fake Neutral:\n"
          ],
          "name": "stdout"
        },
        {
          "output_type": "display_data",
          "data": {
            "image/png": "[encoded data removed]",
            "text/plain": [
              "<PIL.Image.Image image mode=RGB size=48x48 at 0x7F688BEA5F28>"
            ]
          },
          "metadata": {
            "tags": []
          }
        },
        {
          "output_type": "stream",
          "text": [
            "Fake Disgust:\n"
          ],
          "name": "stdout"
        },
        {
          "output_type": "display_data",
          "data": {
            "image/png": "[encoded data removed]",
            "text/plain": [
              "<PIL.Image.Image image mode=RGB size=48x48 at 0x7F688BEA5390>"
            ]
          },
          "metadata": {
            "tags": []
          }
        },
        {
          "output_type": "stream",
          "text": [
            "\n",
            "Batch number 8\n",
            "Real Neutral:\n"
          ],
          "name": "stdout"
        },
        {
          "output_type": "display_data",
          "data": {
            "image/png": "[encoded data removed]",
            "text/plain": [
              "<PIL.Image.Image image mode=RGB size=48x48 at 0x7F688BEA57B8>"
            ]
          },
          "metadata": {
            "tags": []
          }
        },
        {
          "output_type": "stream",
          "text": [
            "Real Disgust:\n"
          ],
          "name": "stdout"
        },
        {
          "output_type": "display_data",
          "data": {
            "image/png": "[encoded data removed]",
            "text/plain": [
              "<PIL.Image.Image image mode=RGB size=48x48 at 0x7F688BEA57B8>"
            ]
          },
          "metadata": {
            "tags": []
          }
        },
        {
          "output_type": "stream",
          "text": [
            "Fake Neutral:\n"
          ],
          "name": "stdout"
        },
        {
          "output_type": "display_data",
          "data": {
            "image/png": "[encoded data removed]",
            "text/plain": [
              "<PIL.Image.Image image mode=RGB size=48x48 at 0x7F688BEA5390>"
            ]
          },
          "metadata": {
            "tags": []
          }
        },
        {
          "output_type": "stream",
          "text": [
            "Fake Disgust:\n"
          ],
          "name": "stdout"
        },
        {
          "output_type": "display_data",
          "data": {
            "image/png": "[encoded data removed]",
            "text/plain": [
              "<PIL.Image.Image image mode=RGB size=48x48 at 0x7F688BEA56A0>"
            ]
          },
          "metadata": {
            "tags": []
          }
        },
        {
          "output_type": "stream",
          "text": [
            "\n",
            "Batch number 9\n",
            "Real Neutral:\n"
          ],
          "name": "stdout"
        },
        {
          "output_type": "display_data",
          "data": {
            "image/png": "[encoded data removed]",
            "text/plain": [
              "<PIL.Image.Image image mode=RGB size=48x48 at 0x7F688BEA57F0>"
            ]
          },
          "metadata": {
            "tags": []
          }
        },
        {
          "output_type": "stream",
          "text": [
            "Real Disgust:\n"
          ],
          "name": "stdout"
        },
        {
          "output_type": "display_data",
          "data": {
            "image/png": "[encoded data removed]",
            "text/plain": [
              "<PIL.Image.Image image mode=RGB size=48x48 at 0x7F688BEA57F0>"
            ]
          },
          "metadata": {
            "tags": []
          }
        },
        {
          "output_type": "stream",
          "text": [
            "Fake Neutral:\n"
          ],
          "name": "stdout"
        },
        {
          "output_type": "display_data",
          "data": {
            "image/png": "[encoded data removed]",
            "text/plain": [
              "<PIL.Image.Image image mode=RGB size=48x48 at 0x7F688BEA5390>"
            ]
          },
          "metadata": {
            "tags": []
          }
        },
        {
          "output_type": "stream",
          "text": [
            "Fake Disgust:\n"
          ],
          "name": "stdout"
        },
        {
          "output_type": "display_data",
          "data": {
            "image/png": "[encoded data removed]",
            "text/plain": [
              "<PIL.Image.Image image mode=RGB size=48x48 at 0x7F688BEA55F8>"
            ]
          },
          "metadata": {
            "tags": []
          }
        },
        {
          "output_type": "stream",
          "text": [
            "\n",
            "Batch number 10\n",
            "Real Neutral:\n"
          ],
          "name": "stdout"
        },
        {
          "output_type": "display_data",
          "data": {
            "image/png": "[encoded data removed]",
            "text/plain": [
              "<PIL.Image.Image image mode=RGB size=48x48 at 0x7F688BEA5D30>"
            ]
          },
          "metadata": {
            "tags": []
          }
        },
        {
          "output_type": "stream",
          "text": [
            "Real Disgust:\n"
          ],
          "name": "stdout"
        },
        {
          "output_type": "display_data",
          "data": {
            "image/png": "[encoded data removed]",
            "text/plain": [
              "<PIL.Image.Image image mode=RGB size=48x48 at 0x7F688BEA5D30>"
            ]
          },
          "metadata": {
            "tags": []
          }
        },
        {
          "output_type": "stream",
          "text": [
            "Fake Neutral:\n"
          ],
          "name": "stdout"
        },
        {
          "output_type": "display_data",
          "data": {
            "image/png": "[encoded data removed]",
            "text/plain": [
              "<PIL.Image.Image image mode=RGB size=48x48 at 0x7F688BEA5630>"
            ]
          },
          "metadata": {
            "tags": []
          }
        },
        {
          "output_type": "stream",
          "text": [
            "Fake Disgust:\n"
          ],
          "name": "stdout"
        },
        {
          "output_type": "display_data",
          "data": {
            "image/png": "[encoded data removed]",
            "text/plain": [
              "<PIL.Image.Image image mode=RGB size=48x48 at 0x7F688BEA5898>"
            ]
          },
          "metadata": {
            "tags": []
          }
        },
        {
          "output_type": "stream",
          "text": [
            "\n",
            "Batch number 11\n",
            "Real Neutral:\n"
          ],
          "name": "stdout"
        },
        {
          "output_type": "display_data",
          "data": {
            "image/png": "[encoded data removed]",
            "text/plain": [
              "<PIL.Image.Image image mode=RGB size=48x48 at 0x7F688BEA55F8>"
            ]
          },
          "metadata": {
            "tags": []
          }
        },
        {
          "output_type": "stream",
          "text": [
            "Real Disgust:\n"
          ],
          "name": "stdout"
        },
        {
          "output_type": "display_data",
          "data": {
            "image/png": "[encoded data removed]",
            "text/plain": [
              "<PIL.Image.Image image mode=RGB size=48x48 at 0x7F688BEA55F8>"
            ]
          },
          "metadata": {
            "tags": []
          }
        },
        {
          "output_type": "stream",
          "text": [
            "Fake Neutral:\n"
          ],
          "name": "stdout"
        },
        {
          "output_type": "display_data",
          "data": {
            "image/png": "[encoded data removed]",
            "text/plain": [
              "<PIL.Image.Image image mode=RGB size=48x48 at 0x7F688BEA55F8>"
            ]
          },
          "metadata": {
            "tags": []
          }
        },
        {
          "output_type": "stream",
          "text": [
            "Fake Disgust:\n"
          ],
          "name": "stdout"
        },
        {
          "output_type": "display_data",
          "data": {
            "image/png": "[encoded data removed]",
            "text/plain": [
              "<PIL.Image.Image image mode=RGB size=48x48 at 0x7F688BEA5A90>"
            ]
          },
          "metadata": {
            "tags": []
          }
        },
        {
          "output_type": "stream",
          "text": [
            "\n",
            "Batch number 12\n",
            "Real Neutral:\n"
          ],
          "name": "stdout"
        },
        {
          "output_type": "display_data",
          "data": {
            "image/png": "[encoded data removed]",
            "text/plain": [
              "<PIL.Image.Image image mode=RGB size=48x48 at 0x7F688BEA56A0>"
            ]
          },
          "metadata": {
            "tags": []
          }
        },
        {
          "output_type": "stream",
          "text": [
            "Real Disgust:\n"
          ],
          "name": "stdout"
        },
        {
          "output_type": "display_data",
          "data": {
            "image/png": "[encoded data removed]",
            "text/plain": [
              "<PIL.Image.Image image mode=RGB size=48x48 at 0x7F688BEA56A0>"
            ]
          },
          "metadata": {
            "tags": []
          }
        },
        {
          "output_type": "stream",
          "text": [
            "Fake Neutral:\n"
          ],
          "name": "stdout"
        },
        {
          "output_type": "display_data",
          "data": {
            "image/png": "[encoded data removed]",
            "text/plain": [
              "<PIL.Image.Image image mode=RGB size=48x48 at 0x7F688BEA5AC8>"
            ]
          },
          "metadata": {
            "tags": []
          }
        },
        {
          "output_type": "stream",
          "text": [
            "Fake Disgust:\n"
          ],
          "name": "stdout"
        },
        {
          "output_type": "display_data",
          "data": {
            "image/png": "[encoded data removed]",
            "text/plain": [
              "<PIL.Image.Image image mode=RGB size=48x48 at 0x7F688BEA5630>"
            ]
          },
          "metadata": {
            "tags": []
          }
        },
        {
          "output_type": "stream",
          "text": [
            "\n",
            "Batch number 13\n",
            "Real Neutral:\n"
          ],
          "name": "stdout"
        },
        {
          "output_type": "display_data",
          "data": {
            "image/png": "[encoded data removed]",
            "text/plain": [
              "<PIL.Image.Image image mode=RGB size=48x48 at 0x7F688BEA5B00>"
            ]
          },
          "metadata": {
            "tags": []
          }
        },
        {
          "output_type": "stream",
          "text": [
            "Real Disgust:\n"
          ],
          "name": "stdout"
        },
        {
          "output_type": "display_data",
          "data": {
            "image/png": "[encoded data removed]",
            "text/plain": [
              "<PIL.Image.Image image mode=RGB size=48x48 at 0x7F688BEA5B00>"
            ]
          },
          "metadata": {
            "tags": []
          }
        },
        {
          "output_type": "stream",
          "text": [
            "Fake Neutral:\n"
          ],
          "name": "stdout"
        },
        {
          "output_type": "display_data",
          "data": {
            "image/png": "[encoded data removed]",
            "text/plain": [
              "<PIL.Image.Image image mode=RGB size=48x48 at 0x7F688BEA5F28>"
            ]
          },
          "metadata": {
            "tags": []
          }
        },
        {
          "output_type": "stream",
          "text": [
            "Fake Disgust:\n"
          ],
          "name": "stdout"
        },
        {
          "output_type": "display_data",
          "data": {
            "image/png": "[encoded data removed]",
            "text/plain": [
              "<PIL.Image.Image image mode=RGB size=48x48 at 0x7F688BEA5B00>"
            ]
          },
          "metadata": {
            "tags": []
          }
        },
        {
          "output_type": "stream",
          "text": [
            "\n",
            "Batch number 14\n",
            "Real Neutral:\n"
          ],
          "name": "stdout"
        },
        {
          "output_type": "display_data",
          "data": {
            "image/png": "[encoded data removed]",
            "text/plain": [
              "<PIL.Image.Image image mode=RGB size=48x48 at 0x7F688BEA5F28>"
            ]
          },
          "metadata": {
            "tags": []
          }
        },
        {
          "output_type": "stream",
          "text": [
            "Real Disgust:\n"
          ],
          "name": "stdout"
        },
        {
          "output_type": "display_data",
          "data": {
            "image/png": "[encoded data removed]",
            "text/plain": [
              "<PIL.Image.Image image mode=RGB size=48x48 at 0x7F688BEA5F28>"
            ]
          },
          "metadata": {
            "tags": []
          }
        },
        {
          "output_type": "stream",
          "text": [
            "Fake Neutral:\n"
          ],
          "name": "stdout"
        },
        {
          "output_type": "display_data",
          "data": {
            "image/png": "[encoded data removed]",
            "text/plain": [
              "<PIL.Image.Image image mode=RGB size=48x48 at 0x7F688BEA5CC0>"
            ]
          },
          "metadata": {
            "tags": []
          }
        },
        {
          "output_type": "stream",
          "text": [
            "Fake Disgust:\n"
          ],
          "name": "stdout"
        },
        {
          "output_type": "display_data",
          "data": {
            "image/png": "[encoded data removed]",
            "text/plain": [
              "<PIL.Image.Image image mode=RGB size=48x48 at 0x7F688BEA5630>"
            ]
          },
          "metadata": {
            "tags": []
          }
        },
        {
          "output_type": "stream",
          "text": [
            "\n",
            "Batch number 15\n",
            "Real Neutral:\n"
          ],
          "name": "stdout"
        },
        {
          "output_type": "display_data",
          "data": {
            "image/png": "[encoded data removed]",
            "text/plain": [
              "<PIL.Image.Image image mode=RGB size=48x48 at 0x7F688BEA55F8>"
            ]
          },
          "metadata": {
            "tags": []
          }
        },
        {
          "output_type": "stream",
          "text": [
            "Real Disgust:\n"
          ],
          "name": "stdout"
        },
        {
          "output_type": "display_data",
          "data": {
            "image/png": "[encoded data removed]",
            "text/plain": [
              "<PIL.Image.Image image mode=RGB size=48x48 at 0x7F688BEA55F8>"
            ]
          },
          "metadata": {
            "tags": []
          }
        },
        {
          "output_type": "stream",
          "text": [
            "Fake Neutral:\n"
          ],
          "name": "stdout"
        },
        {
          "output_type": "display_data",
          "data": {
            "image/png": "[encoded data removed]",
            "text/plain": [
              "<PIL.Image.Image image mode=RGB size=48x48 at 0x7F688BEA5F28>"
            ]
          },
          "metadata": {
            "tags": []
          }
        },
        {
          "output_type": "stream",
          "text": [
            "Fake Disgust:\n"
          ],
          "name": "stdout"
        },
        {
          "output_type": "display_data",
          "data": {
            "image/png": "[encoded data removed]",
            "text/plain": [
              "<PIL.Image.Image image mode=RGB size=48x48 at 0x7F688BEA55F8>"
            ]
          },
          "metadata": {
            "tags": []
          }
        },
        {
          "output_type": "stream",
          "text": [
            "\n",
            "Batch number 16\n",
            "Real Neutral:\n"
          ],
          "name": "stdout"
        },
        {
          "output_type": "display_data",
          "data": {
            "image/png": "[encoded data removed]",
            "text/plain": [
              "<PIL.Image.Image image mode=RGB size=48x48 at 0x7F688BE9CF98>"
            ]
          },
          "metadata": {
            "tags": []
          }
        },
        {
          "output_type": "stream",
          "text": [
            "Real Disgust:\n"
          ],
          "name": "stdout"
        },
        {
          "output_type": "display_data",
          "data": {
            "image/png": "[encoded data removed]",
            "text/plain": [
              "<PIL.Image.Image image mode=RGB size=48x48 at 0x7F688BEA5F28>"
            ]
          },
          "metadata": {
            "tags": []
          }
        },
        {
          "output_type": "error",
          "ename": "KeyboardInterrupt",
          "evalue": "ignored",
          "traceback": [
            "\u001b[0;31m---------------------------------------------------------------------------\u001b[0m",
            "\u001b[0;31mKeyboardInterrupt\u001b[0m                         Traceback (most recent call last)",
            "\u001b[0;32m<ipython-input-18-f1c5754b5242>\u001b[0m in \u001b[0;36m<module>\u001b[0;34m()\u001b[0m\n\u001b[1;32m     59\u001b[0m     \u001b[0mprint\u001b[0m\u001b[0;34m(\u001b[0m\u001b[0;34m\"\\nBatch number\"\u001b[0m\u001b[0;34m,\u001b[0m \u001b[0mbatch_idx\u001b[0m\u001b[0;34m)\u001b[0m\u001b[0;34m\u001b[0m\u001b[0;34m\u001b[0m\u001b[0m\n\u001b[1;32m     60\u001b[0m     \u001b[0m_save_and_display_image\u001b[0m\u001b[0;34m(\u001b[0m\u001b[0mreal_A\u001b[0m\u001b[0;34m[\u001b[0m\u001b[0;36m0\u001b[0m\u001b[0;34m]\u001b[0m\u001b[0;34m[\u001b[0m\u001b[0;36m0\u001b[0m\u001b[0;34m]\u001b[0m\u001b[0;34m.\u001b[0m\u001b[0mcpu\u001b[0m\u001b[0;34m(\u001b[0m\u001b[0;34m)\u001b[0m\u001b[0;34m,\u001b[0m \u001b[0;34m\"Real \"\u001b[0m \u001b[0;34m+\u001b[0m \u001b[0mREFERENCE_CLASS\u001b[0m\u001b[0;34m,\u001b[0m \u001b[0mTEST_PATH\u001b[0m\u001b[0;34m,\u001b[0m \u001b[0;34m'%03d_real_%s.png'\u001b[0m \u001b[0;34m%\u001b[0m \u001b[0;34m(\u001b[0m\u001b[0mbatch_idx\u001b[0m\u001b[0;34m,\u001b[0m \u001b[0mREFERENCE_CLASS\u001b[0m\u001b[0;34m)\u001b[0m\u001b[0;34m)\u001b[0m\u001b[0;34m\u001b[0m\u001b[0;34m\u001b[0m\u001b[0m\n\u001b[0;32m---> 61\u001b[0;31m     \u001b[0m_save_and_display_image\u001b[0m\u001b[0;34m(\u001b[0m\u001b[0mreal_B\u001b[0m\u001b[0;34m[\u001b[0m\u001b[0;36m0\u001b[0m\u001b[0;34m]\u001b[0m\u001b[0;34m[\u001b[0m\u001b[0;36m0\u001b[0m\u001b[0;34m]\u001b[0m\u001b[0;34m.\u001b[0m\u001b[0mcpu\u001b[0m\u001b[0;34m(\u001b[0m\u001b[0;34m)\u001b[0m\u001b[0;34m,\u001b[0m \u001b[0;34m\"Real \"\u001b[0m \u001b[0;34m+\u001b[0m \u001b[0mTARGET_CLASS\u001b[0m\u001b[0;34m,\u001b[0m \u001b[0mTEST_PATH\u001b[0m\u001b[0;34m,\u001b[0m \u001b[0;34m'%03d_real_%s.png'\u001b[0m \u001b[0;34m%\u001b[0m \u001b[0;34m(\u001b[0m\u001b[0mbatch_idx\u001b[0m\u001b[0;34m,\u001b[0m \u001b[0mTARGET_CLASS\u001b[0m\u001b[0;34m)\u001b[0m\u001b[0;34m)\u001b[0m\u001b[0;34m\u001b[0m\u001b[0;34m\u001b[0m\u001b[0m\n\u001b[0m\u001b[1;32m     62\u001b[0m     \u001b[0m_save_and_display_image\u001b[0m\u001b[0;34m(\u001b[0m\u001b[0mfake_A\u001b[0m\u001b[0;34m[\u001b[0m\u001b[0;36m0\u001b[0m\u001b[0;34m]\u001b[0m\u001b[0;34m[\u001b[0m\u001b[0;36m0\u001b[0m\u001b[0;34m]\u001b[0m\u001b[0;34m.\u001b[0m\u001b[0mcpu\u001b[0m\u001b[0;34m(\u001b[0m\u001b[0;34m)\u001b[0m\u001b[0;34m,\u001b[0m \u001b[0;34m\"Fake \"\u001b[0m \u001b[0;34m+\u001b[0m \u001b[0mREFERENCE_CLASS\u001b[0m\u001b[0;34m,\u001b[0m \u001b[0mTEST_PATH\u001b[0m\u001b[0;34m,\u001b[0m \u001b[0;34m'%03d_fake_%s.png'\u001b[0m \u001b[0;34m%\u001b[0m \u001b[0;34m(\u001b[0m\u001b[0mbatch_idx\u001b[0m\u001b[0;34m,\u001b[0m \u001b[0mREFERENCE_CLASS\u001b[0m\u001b[0;34m)\u001b[0m\u001b[0;34m)\u001b[0m\u001b[0;34m\u001b[0m\u001b[0;34m\u001b[0m\u001b[0m\n\u001b[1;32m     63\u001b[0m     \u001b[0m_save_and_display_image\u001b[0m\u001b[0;34m(\u001b[0m\u001b[0mfake_B\u001b[0m\u001b[0;34m[\u001b[0m\u001b[0;36m0\u001b[0m\u001b[0;34m]\u001b[0m\u001b[0;34m[\u001b[0m\u001b[0;36m0\u001b[0m\u001b[0;34m]\u001b[0m\u001b[0;34m.\u001b[0m\u001b[0mcpu\u001b[0m\u001b[0;34m(\u001b[0m\u001b[0;34m)\u001b[0m\u001b[0;34m,\u001b[0m \u001b[0;34m\"Fake \"\u001b[0m \u001b[0;34m+\u001b[0m \u001b[0mTARGET_CLASS\u001b[0m\u001b[0;34m,\u001b[0m \u001b[0mTEST_PATH\u001b[0m\u001b[0;34m,\u001b[0m \u001b[0;34m'%03d_fake_%s.png'\u001b[0m \u001b[0;34m%\u001b[0m \u001b[0;34m(\u001b[0m\u001b[0mbatch_idx\u001b[0m\u001b[0;34m,\u001b[0m \u001b[0mTARGET_CLASS\u001b[0m\u001b[0;34m)\u001b[0m\u001b[0;34m)\u001b[0m\u001b[0;34m\u001b[0m\u001b[0;34m\u001b[0m\u001b[0m\n",
            "\u001b[0;32m<ipython-input-17-017e12e64985>\u001b[0m in \u001b[0;36m_save_and_display_image\u001b[0;34m(pixels, display_name, file_path, file_name)\u001b[0m\n\u001b[1;32m     25\u001b[0m   \u001b[0mprint\u001b[0m\u001b[0;34m(\u001b[0m\u001b[0;34m\"%s:\"\u001b[0m \u001b[0;34m%\u001b[0m \u001b[0mdisplay_name\u001b[0m\u001b[0;34m)\u001b[0m\u001b[0;34m\u001b[0m\u001b[0;34m\u001b[0m\u001b[0m\n\u001b[1;32m     26\u001b[0m   \u001b[0mdisplay\u001b[0m\u001b[0;34m(\u001b[0m\u001b[0m_pixels_to_image\u001b[0m\u001b[0;34m(\u001b[0m\u001b[0mpixels\u001b[0m\u001b[0;34m)\u001b[0m\u001b[0;34m)\u001b[0m\u001b[0;34m\u001b[0m\u001b[0;34m\u001b[0m\u001b[0m\n\u001b[0;32m---> 27\u001b[0;31m   \u001b[0msave_image\u001b[0m\u001b[0;34m(\u001b[0m\u001b[0mpixels\u001b[0m\u001b[0;34m,\u001b[0m \u001b[0mfile_path\u001b[0m \u001b[0;34m+\u001b[0m \u001b[0mfile_name\u001b[0m\u001b[0;34m,\u001b[0m \u001b[0mnormalize\u001b[0m\u001b[0;34m=\u001b[0m\u001b[0;32mTrue\u001b[0m\u001b[0;34m)\u001b[0m\u001b[0;34m\u001b[0m\u001b[0;34m\u001b[0m\u001b[0m\n\u001b[0m",
            "\u001b[0;32m/usr/local/lib/python3.6/dist-packages/torchvision/utils.py\u001b[0m in \u001b[0;36msave_image\u001b[0;34m(tensor, fp, nrow, padding, normalize, range, scale_each, pad_value, format)\u001b[0m\n\u001b[1;32m    128\u001b[0m     \u001b[0mndarr\u001b[0m \u001b[0;34m=\u001b[0m \u001b[0mgrid\u001b[0m\u001b[0;34m.\u001b[0m\u001b[0mmul\u001b[0m\u001b[0;34m(\u001b[0m\u001b[0;36m255\u001b[0m\u001b[0;34m)\u001b[0m\u001b[0;34m.\u001b[0m\u001b[0madd_\u001b[0m\u001b[0;34m(\u001b[0m\u001b[0;36m0.5\u001b[0m\u001b[0;34m)\u001b[0m\u001b[0;34m.\u001b[0m\u001b[0mclamp_\u001b[0m\u001b[0;34m(\u001b[0m\u001b[0;36m0\u001b[0m\u001b[0;34m,\u001b[0m \u001b[0;36m255\u001b[0m\u001b[0;34m)\u001b[0m\u001b[0;34m.\u001b[0m\u001b[0mpermute\u001b[0m\u001b[0;34m(\u001b[0m\u001b[0;36m1\u001b[0m\u001b[0;34m,\u001b[0m \u001b[0;36m2\u001b[0m\u001b[0;34m,\u001b[0m \u001b[0;36m0\u001b[0m\u001b[0;34m)\u001b[0m\u001b[0;34m.\u001b[0m\u001b[0mto\u001b[0m\u001b[0;34m(\u001b[0m\u001b[0;34m'cpu'\u001b[0m\u001b[0;34m,\u001b[0m \u001b[0mtorch\u001b[0m\u001b[0;34m.\u001b[0m\u001b[0muint8\u001b[0m\u001b[0;34m)\u001b[0m\u001b[0;34m.\u001b[0m\u001b[0mnumpy\u001b[0m\u001b[0;34m(\u001b[0m\u001b[0;34m)\u001b[0m\u001b[0;34m\u001b[0m\u001b[0;34m\u001b[0m\u001b[0m\n\u001b[1;32m    129\u001b[0m     \u001b[0mim\u001b[0m \u001b[0;34m=\u001b[0m \u001b[0mImage\u001b[0m\u001b[0;34m.\u001b[0m\u001b[0mfromarray\u001b[0m\u001b[0;34m(\u001b[0m\u001b[0mndarr\u001b[0m\u001b[0;34m)\u001b[0m\u001b[0;34m\u001b[0m\u001b[0;34m\u001b[0m\u001b[0m\n\u001b[0;32m--> 130\u001b[0;31m     \u001b[0mim\u001b[0m\u001b[0;34m.\u001b[0m\u001b[0msave\u001b[0m\u001b[0;34m(\u001b[0m\u001b[0mfp\u001b[0m\u001b[0;34m,\u001b[0m \u001b[0mformat\u001b[0m\u001b[0;34m=\u001b[0m\u001b[0mformat\u001b[0m\u001b[0;34m)\u001b[0m\u001b[0;34m\u001b[0m\u001b[0;34m\u001b[0m\u001b[0m\n\u001b[0m",
            "\u001b[0;32m/usr/local/lib/python3.6/dist-packages/PIL/Image.py\u001b[0m in \u001b[0;36msave\u001b[0;34m(self, fp, format, **params)\u001b[0m\n\u001b[1;32m   2100\u001b[0m \u001b[0;34m\u001b[0m\u001b[0m\n\u001b[1;32m   2101\u001b[0m         \u001b[0;32mtry\u001b[0m\u001b[0;34m:\u001b[0m\u001b[0;34m\u001b[0m\u001b[0;34m\u001b[0m\u001b[0m\n\u001b[0;32m-> 2102\u001b[0;31m             \u001b[0msave_handler\u001b[0m\u001b[0;34m(\u001b[0m\u001b[0mself\u001b[0m\u001b[0;34m,\u001b[0m \u001b[0mfp\u001b[0m\u001b[0;34m,\u001b[0m \u001b[0mfilename\u001b[0m\u001b[0;34m)\u001b[0m\u001b[0;34m\u001b[0m\u001b[0;34m\u001b[0m\u001b[0m\n\u001b[0m\u001b[1;32m   2103\u001b[0m         \u001b[0;32mfinally\u001b[0m\u001b[0;34m:\u001b[0m\u001b[0;34m\u001b[0m\u001b[0;34m\u001b[0m\u001b[0m\n\u001b[1;32m   2104\u001b[0m             \u001b[0;31m# do what we can to clean up\u001b[0m\u001b[0;34m\u001b[0m\u001b[0;34m\u001b[0m\u001b[0;34m\u001b[0m\u001b[0m\n",
            "\u001b[0;32m/usr/local/lib/python3.6/dist-packages/PIL/PngImagePlugin.py\u001b[0m in \u001b[0;36m_save\u001b[0;34m(im, fp, filename, chunk)\u001b[0m\n\u001b[1;32m    903\u001b[0m \u001b[0;34m\u001b[0m\u001b[0m\n\u001b[1;32m    904\u001b[0m     \u001b[0;32mif\u001b[0m \u001b[0mhasattr\u001b[0m\u001b[0;34m(\u001b[0m\u001b[0mfp\u001b[0m\u001b[0;34m,\u001b[0m \u001b[0;34m\"flush\"\u001b[0m\u001b[0;34m)\u001b[0m\u001b[0;34m:\u001b[0m\u001b[0;34m\u001b[0m\u001b[0;34m\u001b[0m\u001b[0m\n\u001b[0;32m--> 905\u001b[0;31m         \u001b[0mfp\u001b[0m\u001b[0;34m.\u001b[0m\u001b[0mflush\u001b[0m\u001b[0;34m(\u001b[0m\u001b[0;34m)\u001b[0m\u001b[0;34m\u001b[0m\u001b[0;34m\u001b[0m\u001b[0m\n\u001b[0m\u001b[1;32m    906\u001b[0m \u001b[0;34m\u001b[0m\u001b[0m\n\u001b[1;32m    907\u001b[0m \u001b[0;34m\u001b[0m\u001b[0m\n",
            "\u001b[0;31mKeyboardInterrupt\u001b[0m: "
          ]
        }
      ]
    },
    {
      "cell_type": "markdown",
      "metadata": {
        "id": "bKbijKJNAiF5"
      },
      "source": [
        "# Generating images\n",
        "\n",
        "Run the next code block to generate images and save them to a `.npy` file. These images are saved in the same format as the FER2013 dataset, so that they can be used to augment the data during training. Make sure that the reference class, target class, and hyperparameters are consistent with the ones you used on the trained CycleGAN model you're testing. Change which model you're using by changing `EXPERIMENT_VERSION`.\n",
        "\n",
        "The `.npy` file will be saved at `OUTPUT_PATH` so make sure you have this set to the correct location in your Drive!"
      ]
    },
    {
      "cell_type": "code",
      "metadata": {
        "colab": {
          "base_uri": "https://localhost:8080/"
        },
        "id": "MX9Iu5B097LQ",
        "outputId": "f3a3131c-d0f2-4c2e-c570-dda68c48aaff"
      },
      "source": [
        "###### Definition of variables ######\n",
        "GEN_A2B_PATH = \"G_A2B/\" # Where the reference -> target model checkpoints are saved\n",
        "GEN_B2A_PATH = \"G_B2A/\" # Where the target -> reference model checkpoints are saved\n",
        "\n",
        "REFERENCE_CLASS = \"Neutral\"\n",
        "TARGET_CLASS = \"Disgust\"\n",
        "\n",
        "# Hyperparameters\n",
        "BATCH_SIZE = 1 \n",
        "IMAGE_SIZE = 48\n",
        "INPUT_CHANNELS = 1\n",
        "OUTPUT_CHANNELS = 1\n",
        "\n",
        "EXPERIMENT_VERSION = \"0.12\" # version of model to use for image generation\n",
        "LOG_PATH = BASE_PATH + 'logs/' + EXPERIMENT_VERSION + '/'\n",
        "\n",
        "NUM_IMAGES = 10\n",
        "SPLIT = \"PrivateTest\" # Must be either \"Training\", \"PublicTest\", or \"PrivateTest\"\n",
        "OUTPUT_PATH = LOG_PATH\n",
        "\n",
        "USE_CUDA = True\n",
        "num_workers = multiprocessing.cpu_count()\n",
        "device = torch.device(\"cuda\" if USE_CUDA and torch.cuda.is_available() else \"cpu\")\n",
        "\n",
        "# Networks\n",
        "netG_A2B = Generator(INPUT_CHANNELS, OUTPUT_CHANNELS).to(device)\n",
        "netG_B2A = Generator(OUTPUT_CHANNELS, INPUT_CHANNELS).to(device)\n",
        "\n",
        "# Load state dicts\n",
        "start_epoch = min([netG_A2B.load_last_model(LOG_PATH + GEN_A2B_PATH),\n",
        "                  netG_B2A.load_last_model(LOG_PATH + GEN_B2A_PATH)])\n",
        "print(\"Using model version:\", start_epoch)\n",
        "\n",
        "# Set model's test mode\n",
        "netG_A2B.eval()\n",
        "netG_B2A.eval()\n",
        "\n",
        "# Inputs & targets memory allocation\n",
        "input_A = torch.Tensor(BATCH_SIZE, INPUT_CHANNELS, IMAGE_SIZE, IMAGE_SIZE).to(device)\n",
        "input_B = torch.Tensor(BATCH_SIZE, OUTPUT_CHANNELS, IMAGE_SIZE, IMAGE_SIZE).to(device)\n",
        "\n",
        "# Dataset loader\n",
        "transforms_ = None\n",
        "testloader = DataLoader(FER2013(classA=REFERENCE_CLASS, classB=TARGET_CLASS, split=SPLIT, transforms_=transforms_, unaligned=True), batch_size=BATCH_SIZE, shuffle=False, num_workers=num_workers)\n",
        "###################################\n",
        "\n",
        "# Create output folders if they don't exist\n",
        "if not os.path.exists(OUTPUT_PATH):\n",
        "    os.makedirs(OUTPUT_PATH)\n",
        "\n",
        "images = []\n",
        "with torch.no_grad():\n",
        "  for batch_idx, batch in enumerate(testloader):\n",
        "    if batch_idx < NUM_IMAGES:\n",
        "      # Set model input\n",
        "      real_A = Variable(input_A.copy_(batch['A']))\n",
        "      real_B = Variable(input_B.copy_(batch['B']))\n",
        "\n",
        "      # Generate output \n",
        "      fake_B = netG_A2B(real_A).data\n",
        "      fake_A = netG_B2A(real_B).data\n",
        "\n",
        "      # Save target class pixels in .npy file\n",
        "      images.append(fake_B[0][0].cpu().numpy())\n",
        "\n",
        "with open(OUTPUT_PATH + TARGET_CLASS + '_generated.npy', 'wb') as output_file:\n",
        "  np.save(output_file, images)"
      ],
      "execution_count": null,
      "outputs": [
        {
          "output_type": "stream",
          "text": [
            "Restoring:\n",
            "model.0.weight -> \ttorch.Size([64, 1, 7, 7]) = 0MB\n",
            "model.0.bias -> \ttorch.Size([64]) = 0MB\n",
            "model.3.weight -> \ttorch.Size([128, 64, 3, 3]) = 0MB\n",
            "model.3.bias -> \ttorch.Size([128]) = 0MB\n",
            "model.6.weight -> \ttorch.Size([256, 128, 3, 3]) = 1MB\n",
            "model.6.bias -> \ttorch.Size([256]) = 0MB\n",
            "model.9.conv_block.0.weight -> \ttorch.Size([256, 256, 3, 3]) = 2MB\n",
            "model.9.conv_block.0.bias -> \ttorch.Size([256]) = 0MB\n",
            "model.9.conv_block.1.weight -> \ttorch.Size([256]) = 0MB\n",
            "model.9.conv_block.1.bias -> \ttorch.Size([256]) = 0MB\n",
            "model.9.conv_block.1.running_mean -> \ttorch.Size([256]) = 0MB\n",
            "model.9.conv_block.1.running_var -> \ttorch.Size([256]) = 0MB\n",
            "model.9.conv_block.1.num_batches_tracked -> \ttorch.Size([]) = 0MB\n",
            "model.9.conv_block.3.weight -> \ttorch.Size([256, 256, 3, 3]) = 2MB\n",
            "model.9.conv_block.3.bias -> \ttorch.Size([256]) = 0MB\n",
            "model.9.conv_block.4.weight -> \ttorch.Size([256]) = 0MB\n",
            "model.9.conv_block.4.bias -> \ttorch.Size([256]) = 0MB\n",
            "model.9.conv_block.4.running_mean -> \ttorch.Size([256]) = 0MB\n",
            "model.9.conv_block.4.running_var -> \ttorch.Size([256]) = 0MB\n",
            "model.9.conv_block.4.num_batches_tracked -> \ttorch.Size([]) = 0MB\n",
            "model.10.conv_block.0.weight -> \ttorch.Size([256, 256, 3, 3]) = 2MB\n",
            "model.10.conv_block.0.bias -> \ttorch.Size([256]) = 0MB\n",
            "model.10.conv_block.1.weight -> \ttorch.Size([256]) = 0MB\n",
            "model.10.conv_block.1.bias -> \ttorch.Size([256]) = 0MB\n",
            "model.10.conv_block.1.running_mean -> \ttorch.Size([256]) = 0MB\n",
            "model.10.conv_block.1.running_var -> \ttorch.Size([256]) = 0MB\n",
            "model.10.conv_block.1.num_batches_tracked -> \ttorch.Size([]) = 0MB\n",
            "model.10.conv_block.3.weight -> \ttorch.Size([256, 256, 3, 3]) = 2MB\n",
            "model.10.conv_block.3.bias -> \ttorch.Size([256]) = 0MB\n",
            "model.10.conv_block.4.weight -> \ttorch.Size([256]) = 0MB\n",
            "model.10.conv_block.4.bias -> \ttorch.Size([256]) = 0MB\n",
            "model.10.conv_block.4.running_mean -> \ttorch.Size([256]) = 0MB\n",
            "model.10.conv_block.4.running_var -> \ttorch.Size([256]) = 0MB\n",
            "model.10.conv_block.4.num_batches_tracked -> \ttorch.Size([]) = 0MB\n",
            "model.11.conv_block.0.weight -> \ttorch.Size([256, 256, 3, 3]) = 2MB\n",
            "model.11.conv_block.0.bias -> \ttorch.Size([256]) = 0MB\n",
            "model.11.conv_block.1.weight -> \ttorch.Size([256]) = 0MB\n",
            "model.11.conv_block.1.bias -> \ttorch.Size([256]) = 0MB\n",
            "model.11.conv_block.1.running_mean -> \ttorch.Size([256]) = 0MB\n",
            "model.11.conv_block.1.running_var -> \ttorch.Size([256]) = 0MB\n",
            "model.11.conv_block.1.num_batches_tracked -> \ttorch.Size([]) = 0MB\n",
            "model.11.conv_block.3.weight -> \ttorch.Size([256, 256, 3, 3]) = 2MB\n",
            "model.11.conv_block.3.bias -> \ttorch.Size([256]) = 0MB\n",
            "model.11.conv_block.4.weight -> \ttorch.Size([256]) = 0MB\n",
            "model.11.conv_block.4.bias -> \ttorch.Size([256]) = 0MB\n",
            "model.11.conv_block.4.running_mean -> \ttorch.Size([256]) = 0MB\n",
            "model.11.conv_block.4.running_var -> \ttorch.Size([256]) = 0MB\n",
            "model.11.conv_block.4.num_batches_tracked -> \ttorch.Size([]) = 0MB\n",
            "model.12.conv_block.0.weight -> \ttorch.Size([256, 256, 3, 3]) = 2MB\n",
            "model.12.conv_block.0.bias -> \ttorch.Size([256]) = 0MB\n",
            "model.12.conv_block.1.weight -> \ttorch.Size([256]) = 0MB\n",
            "model.12.conv_block.1.bias -> \ttorch.Size([256]) = 0MB\n",
            "model.12.conv_block.1.running_mean -> \ttorch.Size([256]) = 0MB\n",
            "model.12.conv_block.1.running_var -> \ttorch.Size([256]) = 0MB\n",
            "model.12.conv_block.1.num_batches_tracked -> \ttorch.Size([]) = 0MB\n",
            "model.12.conv_block.3.weight -> \ttorch.Size([256, 256, 3, 3]) = 2MB\n",
            "model.12.conv_block.3.bias -> \ttorch.Size([256]) = 0MB\n",
            "model.12.conv_block.4.weight -> \ttorch.Size([256]) = 0MB\n",
            "model.12.conv_block.4.bias -> \ttorch.Size([256]) = 0MB\n",
            "model.12.conv_block.4.running_mean -> \ttorch.Size([256]) = 0MB\n",
            "model.12.conv_block.4.running_var -> \ttorch.Size([256]) = 0MB\n",
            "model.12.conv_block.4.num_batches_tracked -> \ttorch.Size([]) = 0MB\n",
            "model.13.conv_block.0.weight -> \ttorch.Size([256, 256, 3, 3]) = 2MB\n",
            "model.13.conv_block.0.bias -> \ttorch.Size([256]) = 0MB\n",
            "model.13.conv_block.1.weight -> \ttorch.Size([256]) = 0MB\n",
            "model.13.conv_block.1.bias -> \ttorch.Size([256]) = 0MB\n",
            "model.13.conv_block.1.running_mean -> \ttorch.Size([256]) = 0MB\n",
            "model.13.conv_block.1.running_var -> \ttorch.Size([256]) = 0MB\n",
            "model.13.conv_block.1.num_batches_tracked -> \ttorch.Size([]) = 0MB\n",
            "model.13.conv_block.3.weight -> \ttorch.Size([256, 256, 3, 3]) = 2MB\n",
            "model.13.conv_block.3.bias -> \ttorch.Size([256]) = 0MB\n",
            "model.13.conv_block.4.weight -> \ttorch.Size([256]) = 0MB\n",
            "model.13.conv_block.4.bias -> \ttorch.Size([256]) = 0MB\n",
            "model.13.conv_block.4.running_mean -> \ttorch.Size([256]) = 0MB\n",
            "model.13.conv_block.4.running_var -> \ttorch.Size([256]) = 0MB\n",
            "model.13.conv_block.4.num_batches_tracked -> \ttorch.Size([]) = 0MB\n",
            "model.14.conv_block.0.weight -> \ttorch.Size([256, 256, 3, 3]) = 2MB\n",
            "model.14.conv_block.0.bias -> \ttorch.Size([256]) = 0MB\n",
            "model.14.conv_block.1.weight -> \ttorch.Size([256]) = 0MB\n",
            "model.14.conv_block.1.bias -> \ttorch.Size([256]) = 0MB\n",
            "model.14.conv_block.1.running_mean -> \ttorch.Size([256]) = 0MB\n",
            "model.14.conv_block.1.running_var -> \ttorch.Size([256]) = 0MB\n",
            "model.14.conv_block.1.num_batches_tracked -> \ttorch.Size([]) = 0MB\n",
            "model.14.conv_block.3.weight -> \ttorch.Size([256, 256, 3, 3]) = 2MB\n",
            "model.14.conv_block.3.bias -> \ttorch.Size([256]) = 0MB\n",
            "model.14.conv_block.4.weight -> \ttorch.Size([256]) = 0MB\n",
            "model.14.conv_block.4.bias -> \ttorch.Size([256]) = 0MB\n",
            "model.14.conv_block.4.running_mean -> \ttorch.Size([256]) = 0MB\n",
            "model.14.conv_block.4.running_var -> \ttorch.Size([256]) = 0MB\n",
            "model.14.conv_block.4.num_batches_tracked -> \ttorch.Size([]) = 0MB\n",
            "model.15.weight -> \ttorch.Size([256, 128, 3, 3]) = 1MB\n",
            "model.15.bias -> \ttorch.Size([128]) = 0MB\n",
            "model.18.weight -> \ttorch.Size([128, 64, 3, 3]) = 0MB\n",
            "model.18.bias -> \ttorch.Size([64]) = 0MB\n",
            "model.21.weight -> \ttorch.Size([1, 64, 7, 7]) = 0MB\n",
            "model.21.bias -> \ttorch.Size([1]) = 0MB\n",
            "\n",
            "Restored all variables\n",
            "No new variables\n",
            "Restored /gdrive/My Drive/colab_files/final_project/logs/0.12/G_A2B/050.pt\n",
            "Restoring:\n",
            "model.0.weight -> \ttorch.Size([64, 1, 7, 7]) = 0MB\n",
            "model.0.bias -> \ttorch.Size([64]) = 0MB\n",
            "model.3.weight -> \ttorch.Size([128, 64, 3, 3]) = 0MB\n",
            "model.3.bias -> \ttorch.Size([128]) = 0MB\n",
            "model.6.weight -> \ttorch.Size([256, 128, 3, 3]) = 1MB\n",
            "model.6.bias -> \ttorch.Size([256]) = 0MB\n",
            "model.9.conv_block.0.weight -> \ttorch.Size([256, 256, 3, 3]) = 2MB\n",
            "model.9.conv_block.0.bias -> \ttorch.Size([256]) = 0MB\n",
            "model.9.conv_block.1.weight -> \ttorch.Size([256]) = 0MB\n",
            "model.9.conv_block.1.bias -> \ttorch.Size([256]) = 0MB\n",
            "model.9.conv_block.1.running_mean -> \ttorch.Size([256]) = 0MB\n",
            "model.9.conv_block.1.running_var -> \ttorch.Size([256]) = 0MB\n",
            "model.9.conv_block.1.num_batches_tracked -> \ttorch.Size([]) = 0MB\n",
            "model.9.conv_block.3.weight -> \ttorch.Size([256, 256, 3, 3]) = 2MB\n",
            "model.9.conv_block.3.bias -> \ttorch.Size([256]) = 0MB\n",
            "model.9.conv_block.4.weight -> \ttorch.Size([256]) = 0MB\n",
            "model.9.conv_block.4.bias -> \ttorch.Size([256]) = 0MB\n",
            "model.9.conv_block.4.running_mean -> \ttorch.Size([256]) = 0MB\n",
            "model.9.conv_block.4.running_var -> \ttorch.Size([256]) = 0MB\n",
            "model.9.conv_block.4.num_batches_tracked -> \ttorch.Size([]) = 0MB\n",
            "model.10.conv_block.0.weight -> \ttorch.Size([256, 256, 3, 3]) = 2MB\n",
            "model.10.conv_block.0.bias -> \ttorch.Size([256]) = 0MB\n",
            "model.10.conv_block.1.weight -> \ttorch.Size([256]) = 0MB\n",
            "model.10.conv_block.1.bias -> \ttorch.Size([256]) = 0MB\n",
            "model.10.conv_block.1.running_mean -> \ttorch.Size([256]) = 0MB\n",
            "model.10.conv_block.1.running_var -> \ttorch.Size([256]) = 0MB\n",
            "model.10.conv_block.1.num_batches_tracked -> \ttorch.Size([]) = 0MB\n",
            "model.10.conv_block.3.weight -> \ttorch.Size([256, 256, 3, 3]) = 2MB\n",
            "model.10.conv_block.3.bias -> \ttorch.Size([256]) = 0MB\n",
            "model.10.conv_block.4.weight -> \ttorch.Size([256]) = 0MB\n",
            "model.10.conv_block.4.bias -> \ttorch.Size([256]) = 0MB\n",
            "model.10.conv_block.4.running_mean -> \ttorch.Size([256]) = 0MB\n",
            "model.10.conv_block.4.running_var -> \ttorch.Size([256]) = 0MB\n",
            "model.10.conv_block.4.num_batches_tracked -> \ttorch.Size([]) = 0MB\n",
            "model.11.conv_block.0.weight -> \ttorch.Size([256, 256, 3, 3]) = 2MB\n",
            "model.11.conv_block.0.bias -> \ttorch.Size([256]) = 0MB\n",
            "model.11.conv_block.1.weight -> \ttorch.Size([256]) = 0MB\n",
            "model.11.conv_block.1.bias -> \ttorch.Size([256]) = 0MB\n",
            "model.11.conv_block.1.running_mean -> \ttorch.Size([256]) = 0MB\n",
            "model.11.conv_block.1.running_var -> \ttorch.Size([256]) = 0MB\n",
            "model.11.conv_block.1.num_batches_tracked -> \ttorch.Size([]) = 0MB\n",
            "model.11.conv_block.3.weight -> \ttorch.Size([256, 256, 3, 3]) = 2MB\n",
            "model.11.conv_block.3.bias -> \ttorch.Size([256]) = 0MB\n",
            "model.11.conv_block.4.weight -> \ttorch.Size([256]) = 0MB\n",
            "model.11.conv_block.4.bias -> \ttorch.Size([256]) = 0MB\n",
            "model.11.conv_block.4.running_mean -> \ttorch.Size([256]) = 0MB\n",
            "model.11.conv_block.4.running_var -> \ttorch.Size([256]) = 0MB\n",
            "model.11.conv_block.4.num_batches_tracked -> \ttorch.Size([]) = 0MB\n",
            "model.12.conv_block.0.weight -> \ttorch.Size([256, 256, 3, 3]) = 2MB\n",
            "model.12.conv_block.0.bias -> \ttorch.Size([256]) = 0MB\n",
            "model.12.conv_block.1.weight -> \ttorch.Size([256]) = 0MB\n",
            "model.12.conv_block.1.bias -> \ttorch.Size([256]) = 0MB\n",
            "model.12.conv_block.1.running_mean -> \ttorch.Size([256]) = 0MB\n",
            "model.12.conv_block.1.running_var -> \ttorch.Size([256]) = 0MB\n",
            "model.12.conv_block.1.num_batches_tracked -> \ttorch.Size([]) = 0MB\n",
            "model.12.conv_block.3.weight -> \ttorch.Size([256, 256, 3, 3]) = 2MB\n",
            "model.12.conv_block.3.bias -> \ttorch.Size([256]) = 0MB\n",
            "model.12.conv_block.4.weight -> \ttorch.Size([256]) = 0MB\n",
            "model.12.conv_block.4.bias -> \ttorch.Size([256]) = 0MB\n",
            "model.12.conv_block.4.running_mean -> \ttorch.Size([256]) = 0MB\n",
            "model.12.conv_block.4.running_var -> \ttorch.Size([256]) = 0MB\n",
            "model.12.conv_block.4.num_batches_tracked -> \ttorch.Size([]) = 0MB\n",
            "model.13.conv_block.0.weight -> \ttorch.Size([256, 256, 3, 3]) = 2MB\n",
            "model.13.conv_block.0.bias -> \ttorch.Size([256]) = 0MB\n",
            "model.13.conv_block.1.weight -> \ttorch.Size([256]) = 0MB\n",
            "model.13.conv_block.1.bias -> \ttorch.Size([256]) = 0MB\n",
            "model.13.conv_block.1.running_mean -> \ttorch.Size([256]) = 0MB\n",
            "model.13.conv_block.1.running_var -> \ttorch.Size([256]) = 0MB\n",
            "model.13.conv_block.1.num_batches_tracked -> \ttorch.Size([]) = 0MB\n",
            "model.13.conv_block.3.weight -> \ttorch.Size([256, 256, 3, 3]) = 2MB\n",
            "model.13.conv_block.3.bias -> \ttorch.Size([256]) = 0MB\n",
            "model.13.conv_block.4.weight -> \ttorch.Size([256]) = 0MB\n",
            "model.13.conv_block.4.bias -> \ttorch.Size([256]) = 0MB\n",
            "model.13.conv_block.4.running_mean -> \ttorch.Size([256]) = 0MB\n",
            "model.13.conv_block.4.running_var -> \ttorch.Size([256]) = 0MB\n",
            "model.13.conv_block.4.num_batches_tracked -> \ttorch.Size([]) = 0MB\n",
            "model.14.conv_block.0.weight -> \ttorch.Size([256, 256, 3, 3]) = 2MB\n",
            "model.14.conv_block.0.bias -> \ttorch.Size([256]) = 0MB\n",
            "model.14.conv_block.1.weight -> \ttorch.Size([256]) = 0MB\n",
            "model.14.conv_block.1.bias -> \ttorch.Size([256]) = 0MB\n",
            "model.14.conv_block.1.running_mean -> \ttorch.Size([256]) = 0MB\n",
            "model.14.conv_block.1.running_var -> \ttorch.Size([256]) = 0MB\n",
            "model.14.conv_block.1.num_batches_tracked -> \ttorch.Size([]) = 0MB\n",
            "model.14.conv_block.3.weight -> \ttorch.Size([256, 256, 3, 3]) = 2MB\n",
            "model.14.conv_block.3.bias -> \ttorch.Size([256]) = 0MB\n",
            "model.14.conv_block.4.weight -> \ttorch.Size([256]) = 0MB\n",
            "model.14.conv_block.4.bias -> \ttorch.Size([256]) = 0MB\n",
            "model.14.conv_block.4.running_mean -> \ttorch.Size([256]) = 0MB\n",
            "model.14.conv_block.4.running_var -> \ttorch.Size([256]) = 0MB\n",
            "model.14.conv_block.4.num_batches_tracked -> \ttorch.Size([]) = 0MB\n",
            "model.15.weight -> \ttorch.Size([256, 128, 3, 3]) = 1MB\n",
            "model.15.bias -> \ttorch.Size([128]) = 0MB\n",
            "model.18.weight -> \ttorch.Size([128, 64, 3, 3]) = 0MB\n",
            "model.18.bias -> \ttorch.Size([64]) = 0MB\n",
            "model.21.weight -> \ttorch.Size([1, 64, 7, 7]) = 0MB\n",
            "model.21.bias -> \ttorch.Size([1]) = 0MB\n",
            "\n",
            "Restored all variables\n",
            "No new variables\n",
            "Restored /gdrive/My Drive/colab_files/final_project/logs/0.12/G_B2A/050.pt\n",
            "Using model version: 50\n"
          ],
          "name": "stdout"
        }
      ]
    },
    {
      "cell_type": "markdown",
      "metadata": {
        "id": "FOF2pHtOfz_w"
      },
      "source": [
        "# Testing functions \n",
        "\n",
        "The functions below are used for verifying the model code. While not necessary to train the model, you can use them to peek into the dataset and play with the padding values to see what sized output you get. "
      ]
    },
    {
      "cell_type": "code",
      "metadata": {
        "id": "6SdSUKHbcSnT"
      },
      "source": [
        "# Test the dataset to make sure we can iterate through the data\n",
        "num_workers = multiprocessing.cpu_count()\n",
        "dataloader = DataLoader(FER2013(), batch_size=100, shuffle=True, num_workers=num_workers)\n",
        "for batch_idx, batch in enumerate(dataloader):\n",
        "  print(\"Batch\", batch_idx)\n",
        "  display(_pixels_to_image(batch['A'][0].numpy()))"
      ],
      "execution_count": null,
      "outputs": []
    },
    {
      "cell_type": "code",
      "metadata": {
        "id": "9IxBXk0BCT-6",
        "colab": {
          "base_uri": "https://localhost:8080/"
        },
        "outputId": "ab17d3c4-4f98-422c-c601-9be945d2621d"
      },
      "source": [
        "### Padding calculations ###\r\n",
        "\r\n",
        "def calculate_dims(batch_size, c_out, h_in, w_in, kernel_size, stride, padding):\r\n",
        "  \"\"\"\r\n",
        "  Function used to calculate output dimensions at a given layer in our discriminator \r\n",
        "  based on the Conv2d dimension calculations in the PyTorch documentation\r\n",
        "  \r\n",
        "  Args:\r\n",
        "    batch_size (int): batch size\r\n",
        "    c_out (int): output channels\r\n",
        "    h_in (int): input height\r\n",
        "    w_in (int): input width\r\n",
        "    kernel_size (int): size of kernel\r\n",
        "    stride (int): stride for the convolution\r\n",
        "    padding (int): amount of padding\r\n",
        "  Returns:\r\n",
        "    A list of [N, C, H, W] where N is the batch size, C is the number of output\r\n",
        "    channels, H is the output height, and W is the output weight\r\n",
        "  \"\"\"\r\n",
        "  numerator_h = h_in + 2 * padding - (kernel_size - 1) - 1\r\n",
        "  numerator_w = w_in + 2 * padding - (kernel_size - 1) - 1\r\n",
        "  return [batch_size, c_out, numerator_h // stride + 1, numerator_w // stride + 1]\r\n",
        "\r\n",
        "# Sample usage of padding calculations\r\n",
        "layers = [(64, 0), (128, 2), (256, 2), (512, 2)]\r\n",
        "h_in = 48\r\n",
        "w_in = 48\r\n",
        "for idx, params in enumerate(layers):\r\n",
        "  model_return = calculate_dims(1, params[0], h_in, w_in, 4, 2, params[1])\r\n",
        "  print(\"Layer\", idx + 1, \"output size:\", model_return[2], \"x\", model_return[3])\r\n",
        "  h_in = model_return[2]\r\n",
        "  w_in = model_return[3]\r\n",
        "model_return = calculate_dims(1, 1, h_in, w_in, 4, 1, 0)\r\n",
        "print(\"Layer\", 5, \"output size:\", model_return[2], \"x\", model_return[3])  "
      ],
      "execution_count": null,
      "outputs": [
        {
          "output_type": "stream",
          "text": [
            "Layer 1 output size: 23 x 23\n",
            "Layer 2 output size: 12 x 12\n",
            "Layer 3 output size: 7 x 7\n",
            "Layer 4 output size: 4 x 4\n",
            "Layer 5 output size: 1 x 1\n"
          ],
          "name": "stdout"
        }
      ]
    }
  ]
}